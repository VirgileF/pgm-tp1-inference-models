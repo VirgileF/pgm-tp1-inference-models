{
 "cells": [
  {
   "cell_type": "code",
   "execution_count": 1,
   "metadata": {},
   "outputs": [],
   "source": [
    "%matplotlib inline\n",
    "from pylab import *\n",
    "import matplotlib.pyplot as plt\n",
    "import os\n",
    "import numpy as np"
   ]
  },
  {
   "cell_type": "code",
   "execution_count": 2,
   "metadata": {},
   "outputs": [],
   "source": [
    "import pyAgrum as gum\n",
    "import pyAgrum.lib.notebook as gnb"
   ]
  },
  {
   "cell_type": "code",
   "execution_count": 4,
   "metadata": {},
   "outputs": [
    {
     "name": "stdout",
     "output_type": "stream",
     "text": [
      "BN{nodes: 0, arcs: 0, domainSize: 1, dim: 0}\n"
     ]
    }
   ],
   "source": [
    "bn=gum.BayesNet('WaterSprinkler')\n",
    "print(bn)"
   ]
  },
  {
   "cell_type": "code",
   "execution_count": 5,
   "metadata": {},
   "outputs": [
    {
     "data": {
      "text/html": [
       "<svg height=\"44pt\" viewBox=\"0.00 0.00 350.00 44.00\" width=\"350pt\" xmlns=\"http://www.w3.org/2000/svg\" xmlns:xlink=\"http://www.w3.org/1999/xlink\">\n",
       "<g class=\"graph\" id=\"graph0\" transform=\"scale(1 1) rotate(0) translate(4 40)\">\n",
       "<title>G</title>\n",
       "<!-- a -->\n",
       "<g class=\"node\" id=\"node1\"><title>a</title>\n",
       "<g id=\"a_node1\"><a xlink:title=\"(0) a\">\n",
       "<ellipse cx=\"27\" cy=\"-18\" fill=\"#404040\" rx=\"27\" ry=\"18\" stroke=\"black\"/>\n",
       "<text fill=\"white\" font-family=\"Times New Roman,serif\" font-size=\"14.00\" text-anchor=\"middle\" x=\"27\" y=\"-14.3\">a</text>\n",
       "</a>\n",
       "</g>\n",
       "</g>\n",
       "<!-- b -->\n",
       "<g class=\"node\" id=\"node2\"><title>b</title>\n",
       "<g id=\"a_node2\"><a xlink:title=\"(1) b\">\n",
       "<ellipse cx=\"99\" cy=\"-18\" fill=\"#404040\" rx=\"27\" ry=\"18\" stroke=\"black\"/>\n",
       "<text fill=\"white\" font-family=\"Times New Roman,serif\" font-size=\"14.00\" text-anchor=\"middle\" x=\"99\" y=\"-14.3\">b</text>\n",
       "</a>\n",
       "</g>\n",
       "</g>\n",
       "<!-- c -->\n",
       "<g class=\"node\" id=\"node3\"><title>c</title>\n",
       "<g id=\"a_node3\"><a xlink:title=\"(2) c\">\n",
       "<ellipse cx=\"171\" cy=\"-18\" fill=\"#404040\" rx=\"27\" ry=\"18\" stroke=\"black\"/>\n",
       "<text fill=\"white\" font-family=\"Times New Roman,serif\" font-size=\"14.00\" text-anchor=\"middle\" x=\"171\" y=\"-14.3\">c</text>\n",
       "</a>\n",
       "</g>\n",
       "</g>\n",
       "<!-- d -->\n",
       "<g class=\"node\" id=\"node4\"><title>d</title>\n",
       "<g id=\"a_node4\"><a xlink:title=\"(3) d\">\n",
       "<ellipse cx=\"243\" cy=\"-18\" fill=\"#404040\" rx=\"27\" ry=\"18\" stroke=\"black\"/>\n",
       "<text fill=\"white\" font-family=\"Times New Roman,serif\" font-size=\"14.00\" text-anchor=\"middle\" x=\"243\" y=\"-14.3\">d</text>\n",
       "</a>\n",
       "</g>\n",
       "</g>\n",
       "<!-- e -->\n",
       "<g class=\"node\" id=\"node5\"><title>e</title>\n",
       "<g id=\"a_node5\"><a xlink:title=\"(4) e\">\n",
       "<ellipse cx=\"315\" cy=\"-18\" fill=\"#404040\" rx=\"27\" ry=\"18\" stroke=\"black\"/>\n",
       "<text fill=\"white\" font-family=\"Times New Roman,serif\" font-size=\"14.00\" text-anchor=\"middle\" x=\"315\" y=\"-14.3\">e</text>\n",
       "</a>\n",
       "</g>\n",
       "</g>\n",
       "</g>\n",
       "</svg>"
      ],
      "text/plain": [
       "(gum::BayesNet<double>@0x2241142af90) BN{nodes: 5, arcs: 0, domainSize: 32, dim: 10}"
      ]
     },
     "execution_count": 5,
     "metadata": {},
     "output_type": "execute_result"
    }
   ],
   "source": [
    "a, b, c, d, e = [ bn.add(name, 2) for name in \"abcde\" ]\n",
    "bn"
   ]
  },
  {
   "cell_type": "code",
   "execution_count": 6,
   "metadata": {},
   "outputs": [
    {
     "name": "stdout",
     "output_type": "stream",
     "text": [
      "BN{nodes: 5, arcs: 4, domainSize: 32, dim: 20}\n"
     ]
    }
   ],
   "source": [
    "for link in [(a,c),(b,c),(b,e),(c,d)]:\n",
    "    bn.addArc(*link)\n",
    "print(bn)"
   ]
  },
  {
   "cell_type": "code",
   "execution_count": 7,
   "metadata": {},
   "outputs": [
    {
     "data": {
      "text/html": [
       "<svg height=\"188pt\" viewBox=\"0.00 0.00 134.00 188.00\" width=\"134pt\" xmlns=\"http://www.w3.org/2000/svg\" xmlns:xlink=\"http://www.w3.org/1999/xlink\">\n",
       "<g class=\"graph\" id=\"graph0\" transform=\"scale(1 1) rotate(0) translate(4 184)\">\n",
       "<title>G</title>\n",
       "<!-- a -->\n",
       "<g class=\"node\" id=\"node1\"><title>a</title>\n",
       "<g id=\"a_node1\"><a xlink:title=\"(0) a\">\n",
       "<ellipse cx=\"27\" cy=\"-162\" fill=\"#404040\" rx=\"27\" ry=\"18\" stroke=\"black\"/>\n",
       "<text fill=\"white\" font-family=\"Times New Roman,serif\" font-size=\"14.00\" text-anchor=\"middle\" x=\"27\" y=\"-158.3\">a</text>\n",
       "</a>\n",
       "</g>\n",
       "</g>\n",
       "<!-- c -->\n",
       "<g class=\"node\" id=\"node3\"><title>c</title>\n",
       "<g id=\"a_node3\"><a xlink:title=\"(2) c\">\n",
       "<ellipse cx=\"27\" cy=\"-90\" fill=\"#404040\" rx=\"27\" ry=\"18\" stroke=\"black\"/>\n",
       "<text fill=\"white\" font-family=\"Times New Roman,serif\" font-size=\"14.00\" text-anchor=\"middle\" x=\"27\" y=\"-86.3\">c</text>\n",
       "</a>\n",
       "</g>\n",
       "</g>\n",
       "<!-- a&#45;&gt;c -->\n",
       "<g class=\"edge\" id=\"edge3\"><title>a-&gt;c</title>\n",
       "<g id=\"a_edge3\"><a xlink:title=\"(0, 2) : \">\n",
       "<path d=\"M27,-143.697C27,-135.983 27,-126.712 27,-118.112\" fill=\"none\" stroke=\"#4a4a4a\"/>\n",
       "<polygon fill=\"#4a4a4a\" points=\"30.5001,-118.104 27,-108.104 23.5001,-118.104 30.5001,-118.104\" stroke=\"#4a4a4a\"/>\n",
       "</a>\n",
       "</g>\n",
       "</g>\n",
       "<!-- b -->\n",
       "<g class=\"node\" id=\"node2\"><title>b</title>\n",
       "<g id=\"a_node2\"><a xlink:title=\"(1) b\">\n",
       "<ellipse cx=\"99\" cy=\"-162\" fill=\"#404040\" rx=\"27\" ry=\"18\" stroke=\"black\"/>\n",
       "<text fill=\"white\" font-family=\"Times New Roman,serif\" font-size=\"14.00\" text-anchor=\"middle\" x=\"99\" y=\"-158.3\">b</text>\n",
       "</a>\n",
       "</g>\n",
       "</g>\n",
       "<!-- b&#45;&gt;c -->\n",
       "<g class=\"edge\" id=\"edge1\"><title>b-&gt;c</title>\n",
       "<g id=\"a_edge1\"><a xlink:title=\"(1, 2) : \">\n",
       "<path d=\"M84.4297,-146.834C74.2501,-136.938 60.4761,-123.546 48.9694,-112.359\" fill=\"none\" stroke=\"#4a4a4a\"/>\n",
       "<polygon fill=\"#4a4a4a\" points=\"51.4055,-109.846 41.7957,-105.385 46.5259,-114.865 51.4055,-109.846\" stroke=\"#4a4a4a\"/>\n",
       "</a>\n",
       "</g>\n",
       "</g>\n",
       "<!-- e -->\n",
       "<g class=\"node\" id=\"node5\"><title>e</title>\n",
       "<g id=\"a_node5\"><a xlink:title=\"(4) e\">\n",
       "<ellipse cx=\"99\" cy=\"-90\" fill=\"#404040\" rx=\"27\" ry=\"18\" stroke=\"black\"/>\n",
       "<text fill=\"white\" font-family=\"Times New Roman,serif\" font-size=\"14.00\" text-anchor=\"middle\" x=\"99\" y=\"-86.3\">e</text>\n",
       "</a>\n",
       "</g>\n",
       "</g>\n",
       "<!-- b&#45;&gt;e -->\n",
       "<g class=\"edge\" id=\"edge4\"><title>b-&gt;e</title>\n",
       "<g id=\"a_edge4\"><a xlink:title=\"(1, 4) : \">\n",
       "<path d=\"M99,-143.697C99,-135.983 99,-126.712 99,-118.112\" fill=\"none\" stroke=\"#4a4a4a\"/>\n",
       "<polygon fill=\"#4a4a4a\" points=\"102.5,-118.104 99,-108.104 95.5001,-118.104 102.5,-118.104\" stroke=\"#4a4a4a\"/>\n",
       "</a>\n",
       "</g>\n",
       "</g>\n",
       "<!-- d -->\n",
       "<g class=\"node\" id=\"node4\"><title>d</title>\n",
       "<g id=\"a_node4\"><a xlink:title=\"(3) d\">\n",
       "<ellipse cx=\"27\" cy=\"-18\" fill=\"#404040\" rx=\"27\" ry=\"18\" stroke=\"black\"/>\n",
       "<text fill=\"white\" font-family=\"Times New Roman,serif\" font-size=\"14.00\" text-anchor=\"middle\" x=\"27\" y=\"-14.3\">d</text>\n",
       "</a>\n",
       "</g>\n",
       "</g>\n",
       "<!-- c&#45;&gt;d -->\n",
       "<g class=\"edge\" id=\"edge2\"><title>c-&gt;d</title>\n",
       "<g id=\"a_edge2\"><a xlink:title=\"(2, 3) : \">\n",
       "<path d=\"M27,-71.6966C27,-63.9827 27,-54.7125 27,-46.1124\" fill=\"none\" stroke=\"#4a4a4a\"/>\n",
       "<polygon fill=\"#4a4a4a\" points=\"30.5001,-46.1043 27,-36.1043 23.5001,-46.1044 30.5001,-46.1043\" stroke=\"#4a4a4a\"/>\n",
       "</a>\n",
       "</g>\n",
       "</g>\n",
       "</g>\n",
       "</svg>"
      ],
      "text/plain": [
       "(gum::BayesNet<double>@0x2241142af90) BN{nodes: 5, arcs: 4, domainSize: 32, dim: 20}"
      ]
     },
     "execution_count": 7,
     "metadata": {},
     "output_type": "execute_result"
    }
   ],
   "source": [
    "bn"
   ]
  },
  {
   "cell_type": "code",
   "execution_count": 8,
   "metadata": {},
   "outputs": [],
   "source": [
    "bn.cpt(a).fillWith([.6,.4])\n",
    "bn.cpt(b).fillWith([.7,.3])\n",
    "\n",
    "bn.cpt(e)[:]=[[.9,.1], [.1,.9]]"
   ]
  },
  {
   "cell_type": "code",
   "execution_count": 12,
   "metadata": {},
   "outputs": [
    {
     "name": "stdout",
     "output_type": "stream",
     "text": [
      "<c:0|a:0|b:0> :: 0 /<c:1|a:0|b:0> :: 0 /<c:0|a:1|b:0> :: 0 /<c:1|a:1|b:0> :: 0 /<c:0|a:0|b:1> :: 0 /<c:1|a:0|b:1> :: 0 /<c:0|a:1|b:1> :: 0 /<c:1|a:1|b:1> :: 0\n"
     ]
    }
   ],
   "source": [
    "print(bn.cpt(c))"
   ]
  },
  {
   "cell_type": "code",
   "execution_count": 13,
   "metadata": {},
   "outputs": [
    {
     "data": {
      "text/html": [
       "<table style=\"border:1px solid black;\">\n",
       "<tr><th colspan='2'></th><th colspan='2' style='border:1px solid black;color:black;background-color:#808080;'><center>c</center></th></tr>\n",
       "<tr><th style='border:1px solid black;color:black;background-color:#808080'><center>b</center></th><th style='border:1px solid black;color:black;background-color:#808080'><center>a</center></th><th style='border:1px solid black;border-bottom-style: double;color:black;background-color:#BBBBBB'><center>0</center></th><th style='border:1px solid black;border-bottom-style: double;color:black;background-color:#BBBBBB'><center>1</center></th></tr>\n",
       "<tr><th style='border:1px solid black;color:black;background-color:#BBBBBB;' rowspan = '2'><center>0</center></th><th style='border:1px solid black;color:black;background-color:#BBBBBB'><center>0</center></th><td style='color:black;background-color:#98e564;text-align:right;'>0.8000</td><td style='color:black;background-color:#e59864;text-align:right;'>0.2000</td></tr>\n",
       "<tr><th style='border:1px solid black;color:black;background-color:#BBBBBB'><center>1</center></th><td style='color:black;background-color:#e59864;text-align:right;'>0.2000</td><td style='color:black;background-color:#98e564;text-align:right;'>0.8000</td></tr>\n",
       "<tr><th style='border:1px solid black;color:black;background-color:#BBBBBB;' rowspan = '2'><center>1</center></th><th style='border:1px solid black;color:black;background-color:#BBBBBB'><center>0</center></th><td style='color:black;background-color:#e59864;text-align:right;'>0.2000</td><td style='color:black;background-color:#98e564;text-align:right;'>0.8000</td></tr>\n",
       "<tr><th style='border:1px solid black;color:black;background-color:#BBBBBB'><center>1</center></th><td style='color:black;background-color:#98e564;text-align:right;'>0.8000</td><td style='color:black;background-color:#e59864;text-align:right;'>0.2000</td></tr>\n",
       "</table>"
      ],
      "text/plain": [
       "(gum::Potential<double>@0x22417b00990) <c:0|a:0|b:0> :: 0.8 /<c:1|a:0|b:0> :: 0.2 /<c:0|a:1|b:0> :: 0.2 /<c:1|a:1|b:0> :: 0.8 /<c:0|a:0|b:1> :: 0.2 /<c:1|a:0|b:1> :: 0.8 /<c:0|a:1|b:1> :: 0.8 /<c:1|a:1|b:1> :: 0.2"
      ]
     },
     "execution_count": 13,
     "metadata": {},
     "output_type": "execute_result"
    }
   ],
   "source": [
    "#print(bn.cpt(c))\n",
    "bn.cpt(c)[0,0,:] = [.8, .2] # b=0,a=0\n",
    "bn.cpt(c)[0,1,:] = [.2, .8]\n",
    "bn.cpt(c)[1,0,:] = [.2, .8]\n",
    "bn.cpt(c)[1,1,:] = [.8, .2]\n",
    "bn.cpt(c)"
   ]
  },
  {
   "cell_type": "code",
   "execution_count": 14,
   "metadata": {},
   "outputs": [],
   "source": [
    "bn.cpt(d)[:]=[[.2,.8], [.8,.2]]"
   ]
  },
  {
   "cell_type": "markdown",
   "metadata": {},
   "source": [
    "## Question 5"
   ]
  },
  {
   "cell_type": "code",
   "execution_count": 26,
   "metadata": {},
   "outputs": [],
   "source": [
    "ie=gum.LazyPropagation(bn)\n",
    "ie.makeInference()"
   ]
  },
  {
   "cell_type": "code",
   "execution_count": 27,
   "metadata": {},
   "outputs": [],
   "source": [
    "ie.setEvidence({'c':1})"
   ]
  },
  {
   "cell_type": "code",
   "execution_count": 24,
   "metadata": {},
   "outputs": [
    {
     "data": {
      "text/html": [
       "<table style=\"border:1px solid black;\">\n",
       "<tr><th colspan='3'></th><th colspan='2' style='border:1px solid black;color:black;background-color:#808080;'><center>b</center></th></tr>\n",
       "<tr><th style='border:1px solid black;color:black;background-color:#808080'><center>a</center></th><th style='border:1px solid black;color:black;background-color:#808080'><center>d</center></th><th style='border:1px solid black;color:black;background-color:#808080'><center>e</center></th><th style='border:1px solid black;border-bottom-style: double;color:black;background-color:#BBBBBB'><center>0</center></th><th style='border:1px solid black;border-bottom-style: double;color:black;background-color:#BBBBBB'><center>1</center></th></tr>\n",
       "<tr><th style='border:1px solid black;color:black;background-color:#BBBBBB;' rowspan = '4'><center>0</center></th><th style='border:1px solid black;color:black;background-color:#BBBBBB;' rowspan = '2'><center>0</center></th><th style='border:1px solid black;color:black;background-color:#BBBBBB'><center>0</center></th><td style='color:black;background-color:#eb9264;text-align:right;'>0.1531</td><td style='color:black;background-color:#f48964;text-align:right;'>0.0835</td></tr>\n",
       "<tr><th style='border:1px solid black;color:black;background-color:#BBBBBB'><center>1</center></th><td style='color:black;background-color:#f28b64;text-align:right;'>0.0948</td><td style='color:black;background-color:#f88564;text-align:right;'>0.0517</td></tr>\n",
       "<tr><th style='border:1px solid black;color:black;background-color:#BBBBBB;' rowspan = '2'><center>1</center></th><th style='border:1px solid black;color:black;background-color:#BBBBBB'><center>0</center></th><td style='color:black;background-color:#fa8364;text-align:right;'>0.0383</td><td style='color:black;background-color:#fc8164;text-align:right;'>0.0209</td></tr>\n",
       "<tr><th style='border:1px solid black;color:black;background-color:#BBBBBB'><center>1</center></th><td style='color:black;background-color:#fb8264;text-align:right;'>0.0237</td><td style='color:black;background-color:#fd8064;text-align:right;'>0.0129</td></tr>\n",
       "<tr><th style='border:1px solid black;color:black;background-color:#BBBBBB;' rowspan = '4'><center>1</center></th><th style='border:1px solid black;color:black;background-color:#BBBBBB;' rowspan = '2'><center>0</center></th><th style='border:1px solid black;color:black;background-color:#BBBBBB'><center>0</center></th><td style='color:black;background-color:#e99464;text-align:right;'>0.1666</td><td style='color:black;background-color:#f38a64;text-align:right;'>0.0909</td></tr>\n",
       "<tr><th style='border:1px solid black;color:black;background-color:#BBBBBB'><center>1</center></th><td style='color:black;background-color:#f18c64;text-align:right;'>0.1031</td><td style='color:black;background-color:#f78664;text-align:right;'>0.0562</td></tr>\n",
       "<tr><th style='border:1px solid black;color:black;background-color:#BBBBBB;' rowspan = '2'><center>1</center></th><th style='border:1px solid black;color:black;background-color:#BBBBBB'><center>0</center></th><td style='color:black;background-color:#f98464;text-align:right;'>0.0416</td><td style='color:black;background-color:#fc8164;text-align:right;'>0.0227</td></tr>\n",
       "<tr><th style='border:1px solid black;color:black;background-color:#BBBBBB'><center>1</center></th><td style='color:black;background-color:#fb8264;text-align:right;'>0.0258</td><td style='color:black;background-color:#fd8064;text-align:right;'>0.0141</td></tr>\n",
       "</table>"
      ],
      "text/plain": [
       "(gum::Potential<double>@0x22417b006b0) <b:0|e:0|d:0|a:0> :: 0.153145 /<b:1|e:0|d:0|a:0> :: 0.0835335 /<b:0|e:1|d:0|a:0> :: 0.0948039 /<b:1|e:1|d:0|a:0> :: 0.0517112 /<b:0|e:0|d:1|a:0> :: 0.0382862 /<b:1|e:0|d:1|a:0> :: 0.0208834 /<b:0|e:1|d:1|a:0> :: 0.023701 /<b:1|e:1|d:1|a:0> :: 0.0129278 /<b:0|e:0|d:0|a:1> :: 0.166578 /<b:1|e:0|d:0|a:1> :: 0.090861 /<b:0|e:1|d:0|a:1> :: 0.10312 /<b:1|e:1|d:0|a:1> :: 0.0562473 /<b:0|e:0|d:1|a:1> :: 0.0416446 /<b:1|e:0|d:1|a:1> :: 0.0227152 /<b:0|e:1|d:1|a:1> :: 0.02578 /<b:1|e:1|d:1|a:1> :: 0.0140618"
      ]
     },
     "execution_count": 24,
     "metadata": {},
     "output_type": "execute_result"
    }
   ],
   "source": [
    "ie.posterior(a)*ie.posterior(d)*ie.posterior(e)*ie.posterior(b)"
   ]
  },
  {
   "cell_type": "code",
   "execution_count": 37,
   "metadata": {},
   "outputs": [
    {
     "data": {
      "text/html": [
       "<table style=\"border:1px solid black;\">\n",
       "<tr><th colspan='3'></th><th colspan='2' style='border:1px solid black;color:black;background-color:#808080;'><center>b</center></th></tr>\n",
       "<tr><th style='border:1px solid black;color:black;background-color:#808080'><center>a</center></th><th style='border:1px solid black;color:black;background-color:#808080'><center>d</center></th><th style='border:1px solid black;color:black;background-color:#808080'><center>e</center></th><th style='border:1px solid black;border-bottom-style: double;color:black;background-color:#BBBBBB'><center>0</center></th><th style='border:1px solid black;border-bottom-style: double;color:black;background-color:#BBBBBB'><center>1</center></th></tr>\n",
       "<tr><th style='border:1px solid black;color:black;background-color:#BBBBBB;' rowspan = '4'><center>0</center></th><th style='border:1px solid black;color:black;background-color:#BBBBBB;' rowspan = '2'><center>0</center></th><th style='border:1px solid black;color:black;background-color:#BBBBBB'><center>0</center></th><td style='color:black;background-color:#ef8e64;text-align:right;'>0.1210</td><td style='color:black;background-color:#fd8064;text-align:right;'>0.0122</td></tr>\n",
       "<tr><th style='border:1px solid black;color:black;background-color:#BBBBBB'><center>1</center></th><td style='color:black;background-color:#fd8064;text-align:right;'>0.0134</td><td style='color:black;background-color:#f08d64;text-align:right;'>0.1102</td></tr>\n",
       "<tr><th style='border:1px solid black;color:black;background-color:#BBBBBB;' rowspan = '2'><center>1</center></th><th style='border:1px solid black;color:black;background-color:#BBBBBB'><center>0</center></th><td style='color:black;background-color:#de9f64;text-align:right;'>0.2570</td><td style='color:black;background-color:#fe7f64;text-align:right;'>0.0058</td></tr>\n",
       "<tr><th style='border:1px solid black;color:black;background-color:#BBBBBB'><center>1</center></th><td style='color:black;background-color:#fb8264;text-align:right;'>0.0286</td><td style='color:black;background-color:#f88564;text-align:right;'>0.0518</td></tr>\n",
       "<tr><th style='border:1px solid black;color:black;background-color:#BBBBBB;' rowspan = '4'><center>1</center></th><th style='border:1px solid black;color:black;background-color:#BBBBBB;' rowspan = '2'><center>0</center></th><th style='border:1px solid black;color:black;background-color:#BBBBBB'><center>0</center></th><td style='color:black;background-color:#e99464;text-align:right;'>0.1714</td><td style='color:black;background-color:#fe7f64;text-align:right;'>0.0038</td></tr>\n",
       "<tr><th style='border:1px solid black;color:black;background-color:#BBBBBB'><center>1</center></th><td style='color:black;background-color:#fc8164;text-align:right;'>0.0190</td><td style='color:black;background-color:#fa8364;text-align:right;'>0.0346</td></tr>\n",
       "<tr><th style='border:1px solid black;color:black;background-color:#BBBBBB;' rowspan = '2'><center>1</center></th><th style='border:1px solid black;color:black;background-color:#BBBBBB'><center>0</center></th><td style='color:black;background-color:#f48964;text-align:right;'>0.0806</td><td style='color:black;background-color:#fd8064;text-align:right;'>0.0082</td></tr>\n",
       "<tr><th style='border:1px solid black;color:black;background-color:#BBBBBB'><center>1</center></th><td style='color:black;background-color:#fd8064;text-align:right;'>0.0090</td><td style='color:black;background-color:#f58864;text-align:right;'>0.0734</td></tr>\n",
       "</table>"
      ],
      "text/plain": [
       "(gum::Potential<double>@0x22417b3dd60) <b:0|e:0|d:0|a:0> :: 0.12096 /<b:1|e:0|d:0|a:0> :: 0.01224 /<b:0|e:1|d:0|a:0> :: 0.01344 /<b:1|e:1|d:0|a:0> :: 0.11016 /<b:0|e:0|d:1|a:0> :: 0.25704 /<b:1|e:0|d:1|a:0> :: 0.00576 /<b:0|e:1|d:1|a:0> :: 0.02856 /<b:1|e:1|d:1|a:0> :: 0.05184 /<b:0|e:0|d:0|a:1> :: 0.17136 /<b:1|e:0|d:0|a:1> :: 0.00384 /<b:0|e:1|d:0|a:1> :: 0.01904 /<b:1|e:1|d:0|a:1> :: 0.03456 /<b:0|e:0|d:1|a:1> :: 0.08064 /<b:1|e:0|d:1|a:1> :: 0.00816 /<b:0|e:1|d:1|a:1> :: 0.00896 /<b:1|e:1|d:1|a:1> :: 0.07344"
      ]
     },
     "execution_count": 37,
     "metadata": {},
     "output_type": "execute_result"
    }
   ],
   "source": [
    "pABCDE=bn.cpt(\"a\")*bn.cpt(\"b\")*bn.cpt(\"c\")*bn.cpt(\"d\")*bn.cpt(\"e\")\n",
    "pABCD=pABCDE.margSumOut([\"c\"])\n",
    "pABCD"
   ]
  },
  {
   "cell_type": "code",
   "execution_count": 38,
   "metadata": {},
   "outputs": [],
   "source": [
    "# La distribution de probabilité ABDE sachant C=1 est différente de la probabilité obtenus en marginalisant C"
   ]
  },
  {
   "cell_type": "markdown",
   "metadata": {},
   "source": [
    "## Question 9"
   ]
  },
  {
   "cell_type": "code",
   "execution_count": 39,
   "metadata": {},
   "outputs": [
    {
     "data": {
      "text/html": [
       "<table style=\"border:1px solid black;\">\n",
       "<tr style='border:1px solid black;color:black;background-color:#808080'><th colspan='2'><center>e</center></th></tr>\n",
       "<tr><th style='border:1px solid black;border-bottom-style: double;color:black;background-color:#BBBBBB'><center>0</center></th><th style='border:1px solid black;border-bottom-style: double;color:black;background-color:#BBBBBB'><center>1</center></th></tr>\n",
       "<tr><td style='color:black;background-color:#aad364;text-align:right;'>0.6600</td><td style='color:black;background-color:#d3aa64;text-align:right;'>0.3400</td></tr>\n",
       "</table>"
      ],
      "text/plain": [
       "(gum::Potential<double>@0x22417b3d980) <e:0> :: 0.66 /<e:1> :: 0.34"
      ]
     },
     "execution_count": 39,
     "metadata": {},
     "output_type": "execute_result"
    }
   ],
   "source": [
    "ie0=gum.LazyPropagation(bn)\n",
    "ie0.makeInference()\n",
    "ie0.posterior(\"e\")"
   ]
  },
  {
   "cell_type": "code",
   "execution_count": 40,
   "metadata": {},
   "outputs": [
    {
     "data": {
      "text/html": [
       "<table style=\"border:1px solid black;\">\n",
       "<tr style='border:1px solid black;color:black;background-color:#808080'><th colspan='2'><center>e</center></th></tr>\n",
       "<tr><th style='border:1px solid black;border-bottom-style: double;color:black;background-color:#BBBBBB'><center>0</center></th><th style='border:1px solid black;border-bottom-style: double;color:black;background-color:#BBBBBB'><center>1</center></th></tr>\n",
       "<tr><td style='color:black;background-color:#bcc164;text-align:right;'>0.5187</td><td style='color:black;background-color:#c1bc64;text-align:right;'>0.4813</td></tr>\n",
       "</table>"
      ],
      "text/plain": [
       "(gum::Potential<double>@0x22417b3de80) <e:0> :: 0.518692 /<e:1> :: 0.481308"
      ]
     },
     "execution_count": 40,
     "metadata": {},
     "output_type": "execute_result"
    }
   ],
   "source": [
    "ie2=gum.LazyPropagation(bn)\n",
    "ie2.makeInference()\n",
    "ie2.setEvidence({\"a\":0,\"d\":0})\n",
    "ie2.posterior(\"e\")"
   ]
  },
  {
   "cell_type": "code",
   "execution_count": 41,
   "metadata": {},
   "outputs": [
    {
     "data": {
      "text/html": [
       "<table style=\"border:1px solid black;\">\n",
       "<tr><th colspan='1'></th><th colspan='2' style='border:1px solid black;color:black;background-color:#808080;'><center>b</center></th></tr>\n",
       "<tr><th style='border:1px solid black;color:black;background-color:#808080'><center>a</center></th><th style='border:1px solid black;border-bottom-style: double;color:black;background-color:#BBBBBB'><center>0</center></th><th style='border:1px solid black;border-bottom-style: double;color:black;background-color:#BBBBBB'><center>1</center></th></tr>\n",
       "<tr><th style='border:1px solid black;color:black;background-color:#BBBBBB'><center>0</center></th><td style='color:black;background-color:#c0bd64;text-align:right;'>0.4866</td><td style='color:black;background-color:#e79664;text-align:right;'>0.1805</td></tr>\n",
       "<tr><th style='border:1px solid black;color:black;background-color:#BBBBBB'><center>1</center></th><td style='color:black;background-color:#df9e64;text-align:right;'>0.2428</td><td style='color:black;background-color:#f38a64;text-align:right;'>0.0901</td></tr>\n",
       "</table>"
      ],
      "text/plain": [
       "(gum::Potential<double>@0x22417b00a10) <b:0|a:0> :: 0.48664 /<b:1|a:0> :: 0.180545 /<b:0|a:1> :: 0.242753 /<b:1|a:1> :: 0.0900619"
      ]
     },
     "execution_count": 41,
     "metadata": {},
     "output_type": "execute_result"
    }
   ],
   "source": [
    "ie3=gum.LazyPropagation(bn)\n",
    "ie3.makeInference()\n",
    "ie3.setEvidence({\"d\":1})\n",
    "ie3.posterior(\"a\")*ie3.posterior(\"b\")"
   ]
  }
 ],
 "metadata": {
  "kernelspec": {
   "display_name": "Python 3",
   "language": "python",
   "name": "python3"
  },
  "language_info": {
   "codemirror_mode": {
    "name": "ipython",
    "version": 3
   },
   "file_extension": ".py",
   "mimetype": "text/x-python",
   "name": "python",
   "nbconvert_exporter": "python",
   "pygments_lexer": "ipython3",
   "version": "3.7.4"
  }
 },
 "nbformat": 4,
 "nbformat_minor": 2
}
