{
 "cells": [
  {
   "cell_type": "code",
   "execution_count": 74,
   "metadata": {},
   "outputs": [],
   "source": [
    "%matplotlib inline\n",
    "from pylab import *\n",
    "import matplotlib.pyplot as plt\n",
    "import os\n",
    "import numpy as np"
   ]
  },
  {
   "cell_type": "code",
   "execution_count": 2,
   "metadata": {},
   "outputs": [],
   "source": [
    "import pyAgrum as gum\n",
    "import pyAgrum.lib.notebook as gnb"
   ]
  },
  {
   "cell_type": "markdown",
   "metadata": {},
   "source": [
    "## Exercice 8"
   ]
  },
  {
   "cell_type": "markdown",
   "metadata": {},
   "source": [
    "### Question 1"
   ]
  },
  {
   "cell_type": "code",
   "execution_count": 8,
   "metadata": {},
   "outputs": [
    {
     "name": "stdout",
     "output_type": "stream",
     "text": [
      "BN{nodes: 0, arcs: 0, domainSize: 1, dim: 0}\n"
     ]
    }
   ],
   "source": [
    "bn=gum.BayesNet('WaterSprinkler')\n",
    "print(bn)"
   ]
  },
  {
   "cell_type": "code",
   "execution_count": 9,
   "metadata": {},
   "outputs": [
    {
     "data": {
      "text/html": [
       "<svg height=\"44pt\" viewBox=\"0.00 0.00 278.00 44.00\" width=\"278pt\" xmlns=\"http://www.w3.org/2000/svg\" xmlns:xlink=\"http://www.w3.org/1999/xlink\">\n",
       "<g class=\"graph\" id=\"graph0\" transform=\"scale(1 1) rotate(0) translate(4 40)\">\n",
       "<title>G</title>\n",
       "<!-- l -->\n",
       "<g class=\"node\" id=\"node1\"><title>l</title>\n",
       "<g id=\"a_node1\"><a xlink:title=\"(0) l\">\n",
       "<ellipse cx=\"27\" cy=\"-18\" fill=\"#404040\" rx=\"27\" ry=\"18\" stroke=\"black\"/>\n",
       "<text fill=\"white\" font-family=\"Times New Roman,serif\" font-size=\"14.00\" text-anchor=\"middle\" x=\"27\" y=\"-14.3\">l</text>\n",
       "</a>\n",
       "</g>\n",
       "</g>\n",
       "<!-- b -->\n",
       "<g class=\"node\" id=\"node2\"><title>b</title>\n",
       "<g id=\"a_node2\"><a xlink:title=\"(1) b\">\n",
       "<ellipse cx=\"99\" cy=\"-18\" fill=\"#404040\" rx=\"27\" ry=\"18\" stroke=\"black\"/>\n",
       "<text fill=\"white\" font-family=\"Times New Roman,serif\" font-size=\"14.00\" text-anchor=\"middle\" x=\"99\" y=\"-14.3\">b</text>\n",
       "</a>\n",
       "</g>\n",
       "</g>\n",
       "<!-- g -->\n",
       "<g class=\"node\" id=\"node3\"><title>g</title>\n",
       "<g id=\"a_node3\"><a xlink:title=\"(2) g\">\n",
       "<ellipse cx=\"171\" cy=\"-18\" fill=\"#404040\" rx=\"27\" ry=\"18\" stroke=\"black\"/>\n",
       "<text fill=\"white\" font-family=\"Times New Roman,serif\" font-size=\"14.00\" text-anchor=\"middle\" x=\"171\" y=\"-14.3\">g</text>\n",
       "</a>\n",
       "</g>\n",
       "</g>\n",
       "<!-- f -->\n",
       "<g class=\"node\" id=\"node4\"><title>f</title>\n",
       "<g id=\"a_node4\"><a xlink:title=\"(3) f\">\n",
       "<ellipse cx=\"243\" cy=\"-18\" fill=\"#404040\" rx=\"27\" ry=\"18\" stroke=\"black\"/>\n",
       "<text fill=\"white\" font-family=\"Times New Roman,serif\" font-size=\"14.00\" text-anchor=\"middle\" x=\"243\" y=\"-14.3\">f</text>\n",
       "</a>\n",
       "</g>\n",
       "</g>\n",
       "</g>\n",
       "</svg>"
      ],
      "text/plain": [
       "(gum::BayesNet<double>@0x15dfb6f2e30) BN{nodes: 4, arcs: 0, domainSize: 16, dim: 8}"
      ]
     },
     "execution_count": 9,
     "metadata": {},
     "output_type": "execute_result"
    }
   ],
   "source": [
    "l, b, g, f = [ bn.add(name, 2) for name in \"lbgf\" ]\n",
    "bn"
   ]
  },
  {
   "cell_type": "code",
   "execution_count": 10,
   "metadata": {},
   "outputs": [
    {
     "name": "stdout",
     "output_type": "stream",
     "text": [
      "BN{nodes: 4, arcs: 3, domainSize: 16, dim: 16}\n"
     ]
    }
   ],
   "source": [
    "for link in [(b,l),(b,g),(f,g)]:\n",
    "    bn.addArc(*link)\n",
    "print(bn)"
   ]
  },
  {
   "cell_type": "code",
   "execution_count": 11,
   "metadata": {},
   "outputs": [
    {
     "data": {
      "text/html": [
       "<svg height=\"116pt\" viewBox=\"0.00 0.00 134.00 116.00\" width=\"134pt\" xmlns=\"http://www.w3.org/2000/svg\" xmlns:xlink=\"http://www.w3.org/1999/xlink\">\n",
       "<g class=\"graph\" id=\"graph0\" transform=\"scale(1 1) rotate(0) translate(4 112)\">\n",
       "<title>G</title>\n",
       "<!-- l -->\n",
       "<g class=\"node\" id=\"node1\"><title>l</title>\n",
       "<g id=\"a_node1\"><a xlink:title=\"(0) l\">\n",
       "<ellipse cx=\"27\" cy=\"-18\" fill=\"#404040\" rx=\"27\" ry=\"18\" stroke=\"black\"/>\n",
       "<text fill=\"white\" font-family=\"Times New Roman,serif\" font-size=\"14.00\" text-anchor=\"middle\" x=\"27\" y=\"-14.3\">l</text>\n",
       "</a>\n",
       "</g>\n",
       "</g>\n",
       "<!-- b -->\n",
       "<g class=\"node\" id=\"node2\"><title>b</title>\n",
       "<g id=\"a_node2\"><a xlink:title=\"(1) b\">\n",
       "<ellipse cx=\"27\" cy=\"-90\" fill=\"#404040\" rx=\"27\" ry=\"18\" stroke=\"black\"/>\n",
       "<text fill=\"white\" font-family=\"Times New Roman,serif\" font-size=\"14.00\" text-anchor=\"middle\" x=\"27\" y=\"-86.3\">b</text>\n",
       "</a>\n",
       "</g>\n",
       "</g>\n",
       "<!-- b&#45;&gt;l -->\n",
       "<g class=\"edge\" id=\"edge2\"><title>b-&gt;l</title>\n",
       "<g id=\"a_edge2\"><a xlink:title=\"(1, 0) : \">\n",
       "<path d=\"M27,-71.6966C27,-63.9827 27,-54.7125 27,-46.1124\" fill=\"none\" stroke=\"#4a4a4a\"/>\n",
       "<polygon fill=\"#4a4a4a\" points=\"30.5001,-46.1043 27,-36.1043 23.5001,-46.1044 30.5001,-46.1043\" stroke=\"#4a4a4a\"/>\n",
       "</a>\n",
       "</g>\n",
       "</g>\n",
       "<!-- g -->\n",
       "<g class=\"node\" id=\"node3\"><title>g</title>\n",
       "<g id=\"a_node3\"><a xlink:title=\"(2) g\">\n",
       "<ellipse cx=\"99\" cy=\"-18\" fill=\"#404040\" rx=\"27\" ry=\"18\" stroke=\"black\"/>\n",
       "<text fill=\"white\" font-family=\"Times New Roman,serif\" font-size=\"14.00\" text-anchor=\"middle\" x=\"99\" y=\"-14.3\">g</text>\n",
       "</a>\n",
       "</g>\n",
       "</g>\n",
       "<!-- b&#45;&gt;g -->\n",
       "<g class=\"edge\" id=\"edge1\"><title>b-&gt;g</title>\n",
       "<g id=\"a_edge1\"><a xlink:title=\"(1, 2) : \">\n",
       "<path d=\"M41.5703,-74.8345C51.7499,-64.9376 65.5239,-51.5462 77.0306,-40.3591\" fill=\"none\" stroke=\"#4a4a4a\"/>\n",
       "<polygon fill=\"#4a4a4a\" points=\"79.4741,-42.865 84.2043,-33.3847 74.5945,-37.8461 79.4741,-42.865\" stroke=\"#4a4a4a\"/>\n",
       "</a>\n",
       "</g>\n",
       "</g>\n",
       "<!-- f -->\n",
       "<g class=\"node\" id=\"node4\"><title>f</title>\n",
       "<g id=\"a_node4\"><a xlink:title=\"(3) f\">\n",
       "<ellipse cx=\"99\" cy=\"-90\" fill=\"#404040\" rx=\"27\" ry=\"18\" stroke=\"black\"/>\n",
       "<text fill=\"white\" font-family=\"Times New Roman,serif\" font-size=\"14.00\" text-anchor=\"middle\" x=\"99\" y=\"-86.3\">f</text>\n",
       "</a>\n",
       "</g>\n",
       "</g>\n",
       "<!-- f&#45;&gt;g -->\n",
       "<g class=\"edge\" id=\"edge3\"><title>f-&gt;g</title>\n",
       "<g id=\"a_edge3\"><a xlink:title=\"(3, 2) : \">\n",
       "<path d=\"M99,-71.6966C99,-63.9827 99,-54.7125 99,-46.1124\" fill=\"none\" stroke=\"#4a4a4a\"/>\n",
       "<polygon fill=\"#4a4a4a\" points=\"102.5,-46.1043 99,-36.1043 95.5001,-46.1044 102.5,-46.1043\" stroke=\"#4a4a4a\"/>\n",
       "</a>\n",
       "</g>\n",
       "</g>\n",
       "</g>\n",
       "</svg>"
      ],
      "text/plain": [
       "(gum::BayesNet<double>@0x15dfb6f2e30) BN{nodes: 4, arcs: 3, domainSize: 16, dim: 16}"
      ]
     },
     "execution_count": 11,
     "metadata": {},
     "output_type": "execute_result"
    }
   ],
   "source": [
    "bn"
   ]
  },
  {
   "cell_type": "code",
   "execution_count": 13,
   "metadata": {},
   "outputs": [
    {
     "data": {
      "text/html": [
       "<table style=\"border:1px solid black;\">\n",
       "<tr style='border:1px solid black;color:black;background-color:#808080'><th colspan='2'><center>f</center></th></tr>\n",
       "<tr><th style='border:1px solid black;border-bottom-style: double;color:black;background-color:#BBBBBB'><center>0</center></th><th style='border:1px solid black;border-bottom-style: double;color:black;background-color:#BBBBBB'><center>1</center></th></tr>\n",
       "<tr><td style='color:black;background-color:#f28b64;text-align:right;'>0.1000</td><td style='color:black;background-color:#8bf264;text-align:right;'>0.9000</td></tr>\n",
       "</table>"
      ],
      "text/plain": [
       "(gum::Potential<double>@0x15dfb6f0a70) <f:0> :: 0.1 /<f:1> :: 0.9"
      ]
     },
     "execution_count": 13,
     "metadata": {},
     "output_type": "execute_result"
    }
   ],
   "source": [
    "bn.cpt(b).fillWith([.1,.9])\n",
    "bn.cpt(f).fillWith([.1,.9])"
   ]
  },
  {
   "cell_type": "code",
   "execution_count": 20,
   "metadata": {},
   "outputs": [],
   "source": [
    "bn.cpt(l)[:]=[[1,0], [.2,.8]]"
   ]
  },
  {
   "cell_type": "code",
   "execution_count": 22,
   "metadata": {},
   "outputs": [
    {
     "data": {
      "text/html": [
       "<table style=\"border:1px solid black;\">\n",
       "<tr><th colspan='1'></th><th colspan='2' style='border:1px solid black;color:black;background-color:#808080;'><center>l</center></th></tr>\n",
       "<tr><th style='border:1px solid black;color:black;background-color:#808080'><center>b</center></th><th style='border:1px solid black;border-bottom-style: double;color:black;background-color:#BBBBBB'><center>0</center></th><th style='border:1px solid black;border-bottom-style: double;color:black;background-color:#BBBBBB'><center>1</center></th></tr>\n",
       "<tr><th style='border:1px solid black;color:black;background-color:#BBBBBB'><center>0</center></th><td style='color:black;background-color:#7fff64;text-align:right;'>1.0000</td><td style='color:black;background-color:#ff7f64;text-align:right;'>0.0000</td></tr>\n",
       "<tr><th style='border:1px solid black;color:black;background-color:#BBBBBB'><center>1</center></th><td style='color:black;background-color:#e59864;text-align:right;'>0.2000</td><td style='color:black;background-color:#98e564;text-align:right;'>0.8000</td></tr>\n",
       "</table>"
      ],
      "text/plain": [
       "(gum::Potential<double>@0x15dfb6f09d0) <l:0|b:0> :: 1 /<l:1|b:0> :: 0 /<l:0|b:1> :: 0.2 /<l:1|b:1> :: 0.8"
      ]
     },
     "execution_count": 22,
     "metadata": {},
     "output_type": "execute_result"
    }
   ],
   "source": [
    "bn.cpt(l)"
   ]
  },
  {
   "cell_type": "code",
   "execution_count": 15,
   "metadata": {},
   "outputs": [
    {
     "data": {
      "text/html": [
       "<table style=\"border:1px solid black;\">\n",
       "<tr><th colspan='2'></th><th colspan='2' style='border:1px solid black;color:black;background-color:#808080;'><center>g</center></th></tr>\n",
       "<tr><th style='border:1px solid black;color:black;background-color:#808080'><center>f</center></th><th style='border:1px solid black;color:black;background-color:#808080'><center>b</center></th><th style='border:1px solid black;border-bottom-style: double;color:black;background-color:#BBBBBB'><center>0</center></th><th style='border:1px solid black;border-bottom-style: double;color:black;background-color:#BBBBBB'><center>1</center></th></tr>\n",
       "<tr><th style='border:1px solid black;color:black;background-color:#BBBBBB;' rowspan = '2'><center>0</center></th><th style='border:1px solid black;color:black;background-color:#BBBBBB'><center>0</center></th><td style='color:black;background-color:#8bf264;text-align:right;'>0.9000</td><td style='color:black;background-color:#f28b64;text-align:right;'>0.1000</td></tr>\n",
       "<tr><th style='border:1px solid black;color:black;background-color:#BBBBBB'><center>1</center></th><td style='color:black;background-color:#98e564;text-align:right;'>0.8000</td><td style='color:black;background-color:#e59864;text-align:right;'>0.2000</td></tr>\n",
       "<tr><th style='border:1px solid black;color:black;background-color:#BBBBBB;' rowspan = '2'><center>1</center></th><th style='border:1px solid black;color:black;background-color:#BBBBBB'><center>0</center></th><td style='color:black;background-color:#98e564;text-align:right;'>0.8000</td><td style='color:black;background-color:#e59864;text-align:right;'>0.2000</td></tr>\n",
       "<tr><th style='border:1px solid black;color:black;background-color:#BBBBBB'><center>1</center></th><td style='color:black;background-color:#e59864;text-align:right;'>0.2000</td><td style='color:black;background-color:#98e564;text-align:right;'>0.8000</td></tr>\n",
       "</table>"
      ],
      "text/plain": [
       "(gum::Potential<double>@0x15dfb6f09b0) <g:0|b:0|f:0> :: 0.9 /<g:1|b:0|f:0> :: 0.1 /<g:0|b:1|f:0> :: 0.8 /<g:1|b:1|f:0> :: 0.2 /<g:0|b:0|f:1> :: 0.8 /<g:1|b:0|f:1> :: 0.2 /<g:0|b:1|f:1> :: 0.2 /<g:1|b:1|f:1> :: 0.8"
      ]
     },
     "execution_count": 15,
     "metadata": {},
     "output_type": "execute_result"
    }
   ],
   "source": [
    "#print(bn.cpt(g))\n",
    "bn.cpt(g)[0,0,:] = [.9, .1] # f=0,b=0\n",
    "bn.cpt(g)[0,1,:] = [.8, .2]\n",
    "bn.cpt(g)[1,0,:] = [.8, .2]\n",
    "bn.cpt(g)[1,1,:] = [.2, .8]\n",
    "bn.cpt(g)"
   ]
  },
  {
   "cell_type": "code",
   "execution_count": 23,
   "metadata": {},
   "outputs": [],
   "source": [
    "ie=gum.LazyPropagation(bn)\n",
    "ie.makeInference()"
   ]
  },
  {
   "cell_type": "code",
   "execution_count": 25,
   "metadata": {},
   "outputs": [
    {
     "data": {
      "text/html": [
       "<table style=\"border:1px solid black;\">\n",
       "<tr style='border:1px solid black;color:black;background-color:#808080'><th colspan='2'><center>l</center></th></tr>\n",
       "<tr><th style='border:1px solid black;border-bottom-style: double;color:black;background-color:#BBBBBB'><center>0</center></th><th style='border:1px solid black;border-bottom-style: double;color:black;background-color:#BBBBBB'><center>1</center></th></tr>\n",
       "<tr><td style='color:black;background-color:#dba264;text-align:right;'>0.2800</td><td style='color:black;background-color:#a2db64;text-align:right;'>0.7200</td></tr>\n",
       "</table>"
      ],
      "text/plain": [
       "(gum::Potential<double>@0x15dfb6f0cf0) <l:0> :: 0.28 /<l:1> :: 0.72"
      ]
     },
     "execution_count": 25,
     "metadata": {},
     "output_type": "execute_result"
    }
   ],
   "source": [
    "ie.posterior(l)"
   ]
  },
  {
   "cell_type": "markdown",
   "metadata": {},
   "source": [
    "### Question 2"
   ]
  },
  {
   "cell_type": "code",
   "execution_count": 26,
   "metadata": {},
   "outputs": [
    {
     "data": {
      "text/html": [
       "<table style=\"border:1px solid black;\">\n",
       "<tr style='border:1px solid black;color:black;background-color:#808080'><th colspan='2'><center>f</center></th></tr>\n",
       "<tr><th style='border:1px solid black;border-bottom-style: double;color:black;background-color:#BBBBBB'><center>0</center></th><th style='border:1px solid black;border-bottom-style: double;color:black;background-color:#BBBBBB'><center>1</center></th></tr>\n",
       "<tr><td style='color:black;background-color:#f28b64;text-align:right;'>0.1000</td><td style='color:black;background-color:#8bf264;text-align:right;'>0.9000</td></tr>\n",
       "</table>"
      ],
      "text/plain": [
       "(gum::Potential<double>@0x15dfb6f0c70) <f:0> :: 0.1 /<f:1> :: 0.9"
      ]
     },
     "execution_count": 26,
     "metadata": {},
     "output_type": "execute_result"
    }
   ],
   "source": [
    "ie.posterior(f)"
   ]
  },
  {
   "cell_type": "code",
   "execution_count": 29,
   "metadata": {},
   "outputs": [
    {
     "data": {
      "text/html": [
       "<table style=\"border:1px solid black;\">\n",
       "<tr><th colspan='3'></th><th colspan='2' style='border:1px solid black;color:black;background-color:#808080;'><center>f</center></th></tr>\n",
       "<tr><th style='border:1px solid black;color:black;background-color:#808080'><center>l</center></th><th style='border:1px solid black;color:black;background-color:#808080'><center>g</center></th><th style='border:1px solid black;color:black;background-color:#808080'><center>b</center></th><th style='border:1px solid black;border-bottom-style: double;color:black;background-color:#BBBBBB'><center>0</center></th><th style='border:1px solid black;border-bottom-style: double;color:black;background-color:#BBBBBB'><center>1</center></th></tr>\n",
       "<tr><th style='border:1px solid black;color:black;background-color:#BBBBBB;' rowspan = '4'><center>0</center></th><th style='border:1px solid black;color:black;background-color:#BBBBBB;' rowspan = '2'><center>0</center></th><th style='border:1px solid black;color:black;background-color:#BBBBBB'><center>0</center></th><td style='color:black;background-color:#fd8064;text-align:right;'>0.0090</td><td style='color:black;background-color:#f58864;text-align:right;'>0.0720</td></tr>\n",
       "<tr><th style='border:1px solid black;color:black;background-color:#BBBBBB'><center>1</center></th><td style='color:black;background-color:#fd8064;text-align:right;'>0.0144</td><td style='color:black;background-color:#fa8364;text-align:right;'>0.0324</td></tr>\n",
       "<tr><th style='border:1px solid black;color:black;background-color:#BBBBBB;' rowspan = '2'><center>1</center></th><th style='border:1px solid black;color:black;background-color:#BBBBBB'><center>0</center></th><td style='color:black;background-color:#fe7f64;text-align:right;'>0.0010</td><td style='color:black;background-color:#fc8164;text-align:right;'>0.0180</td></tr>\n",
       "<tr><th style='border:1px solid black;color:black;background-color:#BBBBBB'><center>1</center></th><td style='color:black;background-color:#fe7f64;text-align:right;'>0.0036</td><td style='color:black;background-color:#ee8f64;text-align:right;'>0.1296</td></tr>\n",
       "<tr><th style='border:1px solid black;color:black;background-color:#BBBBBB;' rowspan = '4'><center>1</center></th><th style='border:1px solid black;color:black;background-color:#BBBBBB;' rowspan = '2'><center>0</center></th><th style='border:1px solid black;color:black;background-color:#BBBBBB'><center>0</center></th><td style='color:black;background-color:#ff7f64;text-align:right;'>0.0000</td><td style='color:black;background-color:#ff7f64;text-align:right;'>0.0000</td></tr>\n",
       "<tr><th style='border:1px solid black;color:black;background-color:#BBBBBB'><center>1</center></th><td style='color:black;background-color:#f78664;text-align:right;'>0.0576</td><td style='color:black;background-color:#ee8f64;text-align:right;'>0.1296</td></tr>\n",
       "<tr><th style='border:1px solid black;color:black;background-color:#BBBBBB;' rowspan = '2'><center>1</center></th><th style='border:1px solid black;color:black;background-color:#BBBBBB'><center>0</center></th><td style='color:black;background-color:#ff7f64;text-align:right;'>0.0000</td><td style='color:black;background-color:#ff7f64;text-align:right;'>0.0000</td></tr>\n",
       "<tr><th style='border:1px solid black;color:black;background-color:#BBBBBB'><center>1</center></th><td style='color:black;background-color:#fd8064;text-align:right;'>0.0144</td><td style='color:black;background-color:#bcc164;text-align:right;'>0.5184</td></tr>\n",
       "</table>"
      ],
      "text/plain": [
       "(gum::Potential<double>@0x15dfb6f07f0) <f:0|b:0|g:0|l:0> :: 0.009 /<f:1|b:0|g:0|l:0> :: 0.072 /<f:0|b:1|g:0|l:0> :: 0.0144 /<f:1|b:1|g:0|l:0> :: 0.0324 /<f:0|b:0|g:1|l:0> :: 0.001 /<f:1|b:0|g:1|l:0> :: 0.018 /<f:0|b:1|g:1|l:0> :: 0.0036 /<f:1|b:1|g:1|l:0> :: 0.1296 /<f:0|b:0|g:0|l:1> :: 0 /<f:1|b:0|g:0|l:1> :: 0 /<f:0|b:1|g:0|l:1> :: 0.0576 /<f:1|b:1|g:0|l:1> :: 0.1296 /<f:0|b:0|g:1|l:1> :: 0 /<f:1|b:0|g:1|l:1> :: 0 /<f:0|b:1|g:1|l:1> :: 0.0144 /<f:1|b:1|g:1|l:1> :: 0.5184"
      ]
     },
     "execution_count": 29,
     "metadata": {},
     "output_type": "execute_result"
    }
   ],
   "source": [
    "pLBGF=bn.cpt(\"l\")*bn.cpt(\"b\")*bn.cpt(\"g\")*bn.cpt(\"f\")\n",
    "pLBGF"
   ]
  },
  {
   "cell_type": "code",
   "execution_count": 30,
   "metadata": {},
   "outputs": [
    {
     "data": {
      "text/html": [
       "<table style=\"border:1px solid black;\">\n",
       "<tr><th colspan='1'></th><th colspan='2' style='border:1px solid black;color:black;background-color:#808080;'><center>f</center></th></tr>\n",
       "<tr><th style='border:1px solid black;color:black;background-color:#808080'><center>l</center></th><th style='border:1px solid black;border-bottom-style: double;color:black;background-color:#BBBBBB'><center>0</center></th><th style='border:1px solid black;border-bottom-style: double;color:black;background-color:#BBBBBB'><center>1</center></th></tr>\n",
       "<tr><th style='border:1px solid black;color:black;background-color:#BBBBBB'><center>0</center></th><td style='color:black;background-color:#fb8264;text-align:right;'>0.0280</td><td style='color:black;background-color:#de9f64;text-align:right;'>0.2520</td></tr>\n",
       "<tr><th style='border:1px solid black;color:black;background-color:#BBBBBB'><center>1</center></th><td style='color:black;background-color:#f58864;text-align:right;'>0.0720</td><td style='color:black;background-color:#acd164;text-align:right;'>0.6480</td></tr>\n",
       "</table>"
      ],
      "text/plain": [
       "(gum::Potential<double>@0x15dfb6f0bd0) <f:0|l:0> :: 0.028 /<f:1|l:0> :: 0.252 /<f:0|l:1> :: 0.072 /<f:1|l:1> :: 0.648"
      ]
     },
     "execution_count": 30,
     "metadata": {},
     "output_type": "execute_result"
    }
   ],
   "source": [
    "pLF=pLBGF.margSumOut([\"b\",\"g\"])\n",
    "pLF"
   ]
  },
  {
   "cell_type": "code",
   "execution_count": 31,
   "metadata": {},
   "outputs": [
    {
     "data": {
      "text/html": [
       "<table style=\"border:1px solid black;\">\n",
       "<tr style='border:1px solid black;color:black;background-color:#808080'><th colspan='2'><center>l</center></th></tr>\n",
       "<tr><th style='border:1px solid black;border-bottom-style: double;color:black;background-color:#BBBBBB'><center>0</center></th><th style='border:1px solid black;border-bottom-style: double;color:black;background-color:#BBBBBB'><center>1</center></th></tr>\n",
       "<tr><td style='color:black;background-color:#dba264;text-align:right;'>0.2800</td><td style='color:black;background-color:#a2db64;text-align:right;'>0.7200</td></tr>\n",
       "</table>"
      ],
      "text/plain": [
       "(gum::Potential<double>@0x15dfb6f0a10) <l:0> :: 0.28 /<l:1> :: 0.72"
      ]
     },
     "execution_count": 31,
     "metadata": {},
     "output_type": "execute_result"
    }
   ],
   "source": [
    "pL=pLBGF.margSumOut([\"b\",\"g\",\"f\"])\n",
    "pL"
   ]
  },
  {
   "cell_type": "code",
   "execution_count": 32,
   "metadata": {},
   "outputs": [
    {
     "data": {
      "text/html": [
       "<table style=\"border:1px solid black;\">\n",
       "<tr style='border:1px solid black;color:black;background-color:#808080'><th colspan='2'><center>f</center></th></tr>\n",
       "<tr><th style='border:1px solid black;border-bottom-style: double;color:black;background-color:#BBBBBB'><center>0</center></th><th style='border:1px solid black;border-bottom-style: double;color:black;background-color:#BBBBBB'><center>1</center></th></tr>\n",
       "<tr><td style='color:black;background-color:#f28b64;text-align:right;'>0.1000</td><td style='color:black;background-color:#8bf264;text-align:right;'>0.9000</td></tr>\n",
       "</table>"
      ],
      "text/plain": [
       "(gum::Potential<double>@0x15dfb6f0710) <f:0> :: 0.1 /<f:1> :: 0.9"
      ]
     },
     "execution_count": 32,
     "metadata": {},
     "output_type": "execute_result"
    }
   ],
   "source": [
    "pF=pLBGF.margSumOut([\"b\",\"g\",\"l\"])\n",
    "pF"
   ]
  },
  {
   "cell_type": "code",
   "execution_count": 38,
   "metadata": {},
   "outputs": [
    {
     "data": {
      "text/plain": [
       "True"
      ]
     },
     "execution_count": 38,
     "metadata": {},
     "output_type": "execute_result"
    }
   ],
   "source": [
    "pF*pL == pLF"
   ]
  },
  {
   "cell_type": "markdown",
   "metadata": {},
   "source": [
    "### Question 3"
   ]
  },
  {
   "cell_type": "code",
   "execution_count": 42,
   "metadata": {},
   "outputs": [
    {
     "data": {
      "text/html": [
       "<table style=\"border:1px solid black;\">\n",
       "<tr><th colspan='2'></th><th colspan='2' style='border:1px solid black;color:black;background-color:#808080;'><center>g</center></th></tr>\n",
       "<tr><th style='border:1px solid black;color:black;background-color:#808080'><center>f</center></th><th style='border:1px solid black;color:black;background-color:#808080'><center>l</center></th><th style='border:1px solid black;border-bottom-style: double;color:black;background-color:#BBBBBB'><center>0</center></th><th style='border:1px solid black;border-bottom-style: double;color:black;background-color:#BBBBBB'><center>1</center></th></tr>\n",
       "<tr><th style='border:1px solid black;color:black;background-color:#BBBBBB;' rowspan = '2'><center>0</center></th><th style='border:1px solid black;color:black;background-color:#BBBBBB'><center>0</center></th><td style='text-align:right;'>0.1831</td><td style='text-align:right;'>0.0302</td></tr>\n",
       "<tr><th style='border:1px solid black;color:black;background-color:#BBBBBB'><center>1</center></th><td style='text-align:right;'>0.3077</td><td style='text-align:right;'>0.0270</td></tr>\n",
       "<tr><th style='border:1px solid black;color:black;background-color:#BBBBBB;' rowspan = '2'><center>1</center></th><th style='border:1px solid black;color:black;background-color:#BBBBBB'><center>0</center></th><td style='text-align:right;'>0.8169</td><td style='text-align:right;'>0.9698</td></tr>\n",
       "<tr><th style='border:1px solid black;color:black;background-color:#BBBBBB'><center>1</center></th><td style='text-align:right;'>0.6923</td><td style='text-align:right;'>0.9730</td></tr>\n",
       "</table>"
      ],
      "text/plain": [
       "(gum::Potential<double>@0x15dfb6f0690) <g:0|l:0|f:0> :: 0.183099 /<g:1|l:0|f:0> :: 0.0302234 /<g:0|l:1|f:0> :: 0.307692 /<g:1|l:1|f:0> :: 0.027027 /<g:0|l:0|f:1> :: 0.816901 /<g:1|l:0|f:1> :: 0.969777 /<g:0|l:1|f:1> :: 0.692308 /<g:1|l:1|f:1> :: 0.972973"
      ]
     },
     "execution_count": 42,
     "metadata": {},
     "output_type": "execute_result"
    }
   ],
   "source": [
    "pFgivenGL=(pLBGF.margSumOut([\"b\"])/pLBGF.margSumOut([\"b\",\"f\"]))\n",
    "pFgivenGL"
   ]
  },
  {
   "cell_type": "code",
   "execution_count": 43,
   "metadata": {},
   "outputs": [
    {
     "data": {
      "text/html": [
       "<table style=\"border:1px solid black;\">\n",
       "<tr><th colspan='1'></th><th colspan='2' style='border:1px solid black;color:black;background-color:#808080;'><center>g</center></th></tr>\n",
       "<tr><th style='border:1px solid black;color:black;background-color:#808080'><center>f</center></th><th style='border:1px solid black;border-bottom-style: double;color:black;background-color:#BBBBBB'><center>0</center></th><th style='border:1px solid black;border-bottom-style: double;color:black;background-color:#BBBBBB'><center>1</center></th></tr>\n",
       "<tr><th style='border:1px solid black;color:black;background-color:#BBBBBB'><center>0</center></th><td style='text-align:right;'>0.2571</td><td style='text-align:right;'>0.0277</td></tr>\n",
       "<tr><th style='border:1px solid black;color:black;background-color:#BBBBBB'><center>1</center></th><td style='text-align:right;'>0.7429</td><td style='text-align:right;'>0.9723</td></tr>\n",
       "</table>"
      ],
      "text/plain": [
       "(gum::Potential<double>@0x15dfb6f06f0) <g:0|f:0> :: 0.257143 /<g:1|f:0> :: 0.0277372 /<g:0|f:1> :: 0.742857 /<g:1|f:1> :: 0.972263"
      ]
     },
     "execution_count": 43,
     "metadata": {},
     "output_type": "execute_result"
    }
   ],
   "source": [
    "pFgivenG=(pLBGF.margSumOut([\"b\",\"l\"])/pLBGF.margSumOut([\"b\",\"l\",\"f\"]))\n",
    "pFgivenG"
   ]
  },
  {
   "cell_type": "code",
   "execution_count": 44,
   "metadata": {},
   "outputs": [],
   "source": [
    "# On a p(F|L,G) != p(F|G)\n",
    "# Donc p(F|L,G)*p(L|G) != p(F|G)*p(L|G)\n",
    "# Donc p(F,L|G) != p(F|G)*p(L|G). Donc F et L non indépendants sachant G"
   ]
  },
  {
   "cell_type": "markdown",
   "metadata": {},
   "source": [
    "## Exercice 6 "
   ]
  },
  {
   "cell_type": "code",
   "execution_count": 52,
   "metadata": {},
   "outputs": [
    {
     "name": "stdout",
     "output_type": "stream",
     "text": [
      "BN{nodes: 0, arcs: 0, domainSize: 1, dim: 0}\n"
     ]
    }
   ],
   "source": [
    "mc=gum.BayesNet('WaterSprinkler')\n",
    "print(mc)"
   ]
  },
  {
   "cell_type": "code",
   "execution_count": 53,
   "metadata": {},
   "outputs": [
    {
     "data": {
      "text/html": [
       "<svg height=\"38pt\" viewBox=\"0.00 0.00 360.00 37.54\" width=\"360pt\" xmlns=\"http://www.w3.org/2000/svg\" xmlns:xlink=\"http://www.w3.org/1999/xlink\">\n",
       "<g class=\"graph\" id=\"graph0\" transform=\"scale(0.853081 0.853081) rotate(0) translate(4 40)\">\n",
       "<title>G</title>\n",
       "<!-- x1 -->\n",
       "<g class=\"node\" id=\"node1\"><title>x1</title>\n",
       "<g id=\"a_node1\"><a xlink:title=\"(0) x1\">\n",
       "<ellipse cx=\"27\" cy=\"-18\" fill=\"#404040\" rx=\"27\" ry=\"18\" stroke=\"black\"/>\n",
       "<text fill=\"white\" font-family=\"Times New Roman,serif\" font-size=\"14.00\" text-anchor=\"middle\" x=\"27\" y=\"-14.3\">x1</text>\n",
       "</a>\n",
       "</g>\n",
       "</g>\n",
       "<!-- x2 -->\n",
       "<g class=\"node\" id=\"node2\"><title>x2</title>\n",
       "<g id=\"a_node2\"><a xlink:title=\"(1) x2\">\n",
       "<ellipse cx=\"99\" cy=\"-18\" fill=\"#404040\" rx=\"27\" ry=\"18\" stroke=\"black\"/>\n",
       "<text fill=\"white\" font-family=\"Times New Roman,serif\" font-size=\"14.00\" text-anchor=\"middle\" x=\"99\" y=\"-14.3\">x2</text>\n",
       "</a>\n",
       "</g>\n",
       "</g>\n",
       "<!-- x3 -->\n",
       "<g class=\"node\" id=\"node3\"><title>x3</title>\n",
       "<g id=\"a_node3\"><a xlink:title=\"(2) x3\">\n",
       "<ellipse cx=\"171\" cy=\"-18\" fill=\"#404040\" rx=\"27\" ry=\"18\" stroke=\"black\"/>\n",
       "<text fill=\"white\" font-family=\"Times New Roman,serif\" font-size=\"14.00\" text-anchor=\"middle\" x=\"171\" y=\"-14.3\">x3</text>\n",
       "</a>\n",
       "</g>\n",
       "</g>\n",
       "<!-- y1 -->\n",
       "<g class=\"node\" id=\"node4\"><title>y1</title>\n",
       "<g id=\"a_node4\"><a xlink:title=\"(3) y1\">\n",
       "<ellipse cx=\"243\" cy=\"-18\" fill=\"#404040\" rx=\"27\" ry=\"18\" stroke=\"black\"/>\n",
       "<text fill=\"white\" font-family=\"Times New Roman,serif\" font-size=\"14.00\" text-anchor=\"middle\" x=\"243\" y=\"-14.3\">y1</text>\n",
       "</a>\n",
       "</g>\n",
       "</g>\n",
       "<!-- y2 -->\n",
       "<g class=\"node\" id=\"node5\"><title>y2</title>\n",
       "<g id=\"a_node5\"><a xlink:title=\"(4) y2\">\n",
       "<ellipse cx=\"315\" cy=\"-18\" fill=\"#404040\" rx=\"27\" ry=\"18\" stroke=\"black\"/>\n",
       "<text fill=\"white\" font-family=\"Times New Roman,serif\" font-size=\"14.00\" text-anchor=\"middle\" x=\"315\" y=\"-14.3\">y2</text>\n",
       "</a>\n",
       "</g>\n",
       "</g>\n",
       "<!-- y3 -->\n",
       "<g class=\"node\" id=\"node6\"><title>y3</title>\n",
       "<g id=\"a_node6\"><a xlink:title=\"(5) y3\">\n",
       "<ellipse cx=\"387\" cy=\"-18\" fill=\"#404040\" rx=\"27\" ry=\"18\" stroke=\"black\"/>\n",
       "<text fill=\"white\" font-family=\"Times New Roman,serif\" font-size=\"14.00\" text-anchor=\"middle\" x=\"387\" y=\"-14.3\">y3</text>\n",
       "</a>\n",
       "</g>\n",
       "</g>\n",
       "</g>\n",
       "</svg>"
      ],
      "text/plain": [
       "(gum::BayesNet<double>@0x15dfb6fc480) BN{nodes: 6, arcs: 0, domainSize: 216, dim: 15}"
      ]
     },
     "execution_count": 53,
     "metadata": {},
     "output_type": "execute_result"
    }
   ],
   "source": [
    "x1, x2, x3 = [ mc.add(name, 3) for name in [\"x1\", \"x2\", \"x3\"]]\n",
    "y1, y2, y3 = [ mc.add(name, 2) for name in [\"y1\", \"y2\", \"y3\"]]\n",
    "mc"
   ]
  },
  {
   "cell_type": "code",
   "execution_count": 54,
   "metadata": {},
   "outputs": [
    {
     "data": {
      "text/html": [
       "<svg height=\"260pt\" viewBox=\"0.00 0.00 170.00 260.00\" width=\"170pt\" xmlns=\"http://www.w3.org/2000/svg\" xmlns:xlink=\"http://www.w3.org/1999/xlink\">\n",
       "<g class=\"graph\" id=\"graph0\" transform=\"scale(1 1) rotate(0) translate(4 256)\">\n",
       "<title>G</title>\n",
       "<!-- x1 -->\n",
       "<g class=\"node\" id=\"node1\"><title>x1</title>\n",
       "<g id=\"a_node1\"><a xlink:title=\"(0) x1\">\n",
       "<ellipse cx=\"99\" cy=\"-234\" fill=\"#404040\" rx=\"27\" ry=\"18\" stroke=\"black\"/>\n",
       "<text fill=\"white\" font-family=\"Times New Roman,serif\" font-size=\"14.00\" text-anchor=\"middle\" x=\"99\" y=\"-230.3\">x1</text>\n",
       "</a>\n",
       "</g>\n",
       "</g>\n",
       "<!-- x2 -->\n",
       "<g class=\"node\" id=\"node2\"><title>x2</title>\n",
       "<g id=\"a_node2\"><a xlink:title=\"(1) x2\">\n",
       "<ellipse cx=\"63\" cy=\"-162\" fill=\"#404040\" rx=\"27\" ry=\"18\" stroke=\"black\"/>\n",
       "<text fill=\"white\" font-family=\"Times New Roman,serif\" font-size=\"14.00\" text-anchor=\"middle\" x=\"63\" y=\"-158.3\">x2</text>\n",
       "</a>\n",
       "</g>\n",
       "</g>\n",
       "<!-- x1&#45;&gt;x2 -->\n",
       "<g class=\"edge\" id=\"edge1\"><title>x1-&gt;x2</title>\n",
       "<g id=\"a_edge1\"><a xlink:title=\"(0, 1) : \">\n",
       "<path d=\"M90.6504,-216.765C86.2885,-208.283 80.8531,-197.714 75.9587,-188.197\" fill=\"none\" stroke=\"#4a4a4a\"/>\n",
       "<polygon fill=\"#4a4a4a\" points=\"78.9904,-186.439 71.3043,-179.147 72.7654,-189.641 78.9904,-186.439\" stroke=\"#4a4a4a\"/>\n",
       "</a>\n",
       "</g>\n",
       "</g>\n",
       "<!-- y1 -->\n",
       "<g class=\"node\" id=\"node4\"><title>y1</title>\n",
       "<g id=\"a_node4\"><a xlink:title=\"(3) y1\">\n",
       "<ellipse cx=\"135\" cy=\"-162\" fill=\"#404040\" rx=\"27\" ry=\"18\" stroke=\"black\"/>\n",
       "<text fill=\"white\" font-family=\"Times New Roman,serif\" font-size=\"14.00\" text-anchor=\"middle\" x=\"135\" y=\"-158.3\">y1</text>\n",
       "</a>\n",
       "</g>\n",
       "</g>\n",
       "<!-- x1&#45;&gt;y1 -->\n",
       "<g class=\"edge\" id=\"edge5\"><title>x1-&gt;y1</title>\n",
       "<g id=\"a_edge5\"><a xlink:title=\"(0, 3) : \">\n",
       "<path d=\"M107.35,-216.765C111.712,-208.283 117.147,-197.714 122.041,-188.197\" fill=\"none\" stroke=\"#4a4a4a\"/>\n",
       "<polygon fill=\"#4a4a4a\" points=\"125.235,-189.641 126.696,-179.147 119.01,-186.439 125.235,-189.641\" stroke=\"#4a4a4a\"/>\n",
       "</a>\n",
       "</g>\n",
       "</g>\n",
       "<!-- x3 -->\n",
       "<g class=\"node\" id=\"node3\"><title>x3</title>\n",
       "<g id=\"a_node3\"><a xlink:title=\"(2) x3\">\n",
       "<ellipse cx=\"27\" cy=\"-90\" fill=\"#404040\" rx=\"27\" ry=\"18\" stroke=\"black\"/>\n",
       "<text fill=\"white\" font-family=\"Times New Roman,serif\" font-size=\"14.00\" text-anchor=\"middle\" x=\"27\" y=\"-86.3\">x3</text>\n",
       "</a>\n",
       "</g>\n",
       "</g>\n",
       "<!-- x2&#45;&gt;x3 -->\n",
       "<g class=\"edge\" id=\"edge2\"><title>x2-&gt;x3</title>\n",
       "<g id=\"a_edge2\"><a xlink:title=\"(1, 2) : \">\n",
       "<path d=\"M54.6504,-144.765C50.2885,-136.283 44.8531,-125.714 39.9587,-116.197\" fill=\"none\" stroke=\"#4a4a4a\"/>\n",
       "<polygon fill=\"#4a4a4a\" points=\"42.9904,-114.439 35.3043,-107.147 36.7654,-117.641 42.9904,-114.439\" stroke=\"#4a4a4a\"/>\n",
       "</a>\n",
       "</g>\n",
       "</g>\n",
       "<!-- y2 -->\n",
       "<g class=\"node\" id=\"node5\"><title>y2</title>\n",
       "<g id=\"a_node5\"><a xlink:title=\"(4) y2\">\n",
       "<ellipse cx=\"99\" cy=\"-90\" fill=\"#404040\" rx=\"27\" ry=\"18\" stroke=\"black\"/>\n",
       "<text fill=\"white\" font-family=\"Times New Roman,serif\" font-size=\"14.00\" text-anchor=\"middle\" x=\"99\" y=\"-86.3\">y2</text>\n",
       "</a>\n",
       "</g>\n",
       "</g>\n",
       "<!-- x2&#45;&gt;y2 -->\n",
       "<g class=\"edge\" id=\"edge3\"><title>x2-&gt;y2</title>\n",
       "<g id=\"a_edge3\"><a xlink:title=\"(1, 4) : \">\n",
       "<path d=\"M71.3496,-144.765C75.7115,-136.283 81.1469,-125.714 86.0413,-116.197\" fill=\"none\" stroke=\"#4a4a4a\"/>\n",
       "<polygon fill=\"#4a4a4a\" points=\"89.2346,-117.641 90.6957,-107.147 83.0096,-114.439 89.2346,-117.641\" stroke=\"#4a4a4a\"/>\n",
       "</a>\n",
       "</g>\n",
       "</g>\n",
       "<!-- y3 -->\n",
       "<g class=\"node\" id=\"node6\"><title>y3</title>\n",
       "<g id=\"a_node6\"><a xlink:title=\"(5) y3\">\n",
       "<ellipse cx=\"27\" cy=\"-18\" fill=\"#404040\" rx=\"27\" ry=\"18\" stroke=\"black\"/>\n",
       "<text fill=\"white\" font-family=\"Times New Roman,serif\" font-size=\"14.00\" text-anchor=\"middle\" x=\"27\" y=\"-14.3\">y3</text>\n",
       "</a>\n",
       "</g>\n",
       "</g>\n",
       "<!-- x3&#45;&gt;y3 -->\n",
       "<g class=\"edge\" id=\"edge4\"><title>x3-&gt;y3</title>\n",
       "<g id=\"a_edge4\"><a xlink:title=\"(2, 5) : \">\n",
       "<path d=\"M27,-71.6966C27,-63.9827 27,-54.7125 27,-46.1124\" fill=\"none\" stroke=\"#4a4a4a\"/>\n",
       "<polygon fill=\"#4a4a4a\" points=\"30.5001,-46.1043 27,-36.1043 23.5001,-46.1044 30.5001,-46.1043\" stroke=\"#4a4a4a\"/>\n",
       "</a>\n",
       "</g>\n",
       "</g>\n",
       "</g>\n",
       "</svg>"
      ],
      "text/plain": [
       "(gum::BayesNet<double>@0x15dfb6fc480) BN{nodes: 6, arcs: 5, domainSize: 216, dim: 39}"
      ]
     },
     "execution_count": 54,
     "metadata": {},
     "output_type": "execute_result"
    }
   ],
   "source": [
    "for link in [(x1,x2),(x2,x3),(x1,y1),(x2, y2),(x3, y3)]:\n",
    "    mc.addArc(*link)\n",
    "mc"
   ]
  },
  {
   "cell_type": "code",
   "execution_count": 63,
   "metadata": {},
   "outputs": [],
   "source": [
    "mc.cpt(x1).fillWith([.6,.4,0])\n",
    "mc.cpt(x2)[:] = [[.3,.5, .2],[0,.3,.7],[0,0,1]]\n",
    "mc.cpt(x3)[:] = [[.3,.5, .2],[0,.3,.7],[0,0,1]]\n",
    "\n",
    "mc.cpt(y1)[:] = [[1,0],[.5,.5],[0,1]]\n",
    "mc.cpt(y2)[:] = [[1,0],[.5,.5],[0,1]]\n",
    "mc.cpt(y3)[:] = [[1,0],[.5,.5],[0,1]]"
   ]
  },
  {
   "cell_type": "code",
   "execution_count": 64,
   "metadata": {},
   "outputs": [],
   "source": [
    "ie2=gum.LazyPropagation(mc)\n",
    "ie2.makeInference()"
   ]
  },
  {
   "cell_type": "code",
   "execution_count": 65,
   "metadata": {},
   "outputs": [
    {
     "data": {
      "text/html": [
       "<table style=\"border:1px solid black;\">\n",
       "<tr style='border:1px solid black;color:black;background-color:#808080'><th colspan='3'><center>x1</center></th></tr>\n",
       "<tr><th style='border:1px solid black;border-bottom-style: double;color:black;background-color:#BBBBBB'><center>0</center></th><th style='border:1px solid black;border-bottom-style: double;color:black;background-color:#BBBBBB'><center>1</center></th><th style='border:1px solid black;border-bottom-style: double;color:black;background-color:#BBBBBB'><center>2</center></th></tr>\n",
       "<tr><td style='color:black;background-color:#b2cb64;text-align:right;'>0.6000</td><td style='color:black;background-color:#cbb264;text-align:right;'>0.4000</td><td style='color:black;background-color:#ff7f64;text-align:right;'>0.0000</td></tr>\n",
       "</table>"
      ],
      "text/plain": [
       "(gum::Potential<double>@0x15dfb71e3e0) <x1:0> :: 0.6 /<x1:1> :: 0.4 /<x1:2> :: 0"
      ]
     },
     "execution_count": 65,
     "metadata": {},
     "output_type": "execute_result"
    }
   ],
   "source": [
    "ie2.posterior(x1)"
   ]
  },
  {
   "cell_type": "code",
   "execution_count": 68,
   "metadata": {},
   "outputs": [
    {
     "data": {
      "text/html": [
       "<table style=\"border:1px solid black;\">\n",
       "<tr><th colspan='5'></th><th colspan='3' style='border:1px solid black;color:black;background-color:#808080;'><center>x3</center></th></tr>\n",
       "<tr><th style='border:1px solid black;color:black;background-color:#808080'><center>y1</center></th><th style='border:1px solid black;color:black;background-color:#808080'><center>x1</center></th><th style='border:1px solid black;color:black;background-color:#808080'><center>y2</center></th><th style='border:1px solid black;color:black;background-color:#808080'><center>x2</center></th><th style='border:1px solid black;color:black;background-color:#808080'><center>y3</center></th><th style='border:1px solid black;border-bottom-style: double;color:black;background-color:#BBBBBB'><center>0</center></th><th style='border:1px solid black;border-bottom-style: double;color:black;background-color:#BBBBBB'><center>1</center></th><th style='border:1px solid black;border-bottom-style: double;color:black;background-color:#BBBBBB'><center>2</center></th></tr>\n",
       "<tr><th style='border:1px solid black;color:black;background-color:#BBBBBB;' rowspan = '36'><center>0</center></th><th style='border:1px solid black;color:black;background-color:#BBBBBB;' rowspan = '12'><center>0</center></th><th style='border:1px solid black;color:black;background-color:#BBBBBB;' rowspan = '6'><center>0</center></th><th style='border:1px solid black;color:black;background-color:#BBBBBB;' rowspan = '2'><center>0</center></th><th style='border:1px solid black;color:black;background-color:#BBBBBB'><center>0</center></th><td style='color:black;background-color:#f88564;text-align:right;'>0.0540</td><td style='color:black;background-color:#f98464;text-align:right;'>0.0450</td><td style='color:black;background-color:#ff7f64;text-align:right;'>0.0000</td></tr>\n",
       "<tr><th style='border:1px solid black;color:black;background-color:#BBBBBB'><center>1</center></th><td style='color:black;background-color:#ff7f64;text-align:right;'>0.0000</td><td style='color:black;background-color:#f98464;text-align:right;'>0.0450</td><td style='color:black;background-color:#fa8364;text-align:right;'>0.0360</td></tr>\n",
       "<tr><th style='border:1px solid black;color:black;background-color:#BBBBBB;' rowspan = '2'><center>1</center></th><th style='border:1px solid black;color:black;background-color:#BBBBBB'><center>0</center></th><td style='color:black;background-color:#ff7f64;text-align:right;'>0.0000</td><td style='color:black;background-color:#fc8164;text-align:right;'>0.0225</td><td style='color:black;background-color:#ff7f64;text-align:right;'>0.0000</td></tr>\n",
       "<tr><th style='border:1px solid black;color:black;background-color:#BBBBBB'><center>1</center></th><td style='color:black;background-color:#ff7f64;text-align:right;'>0.0000</td><td style='color:black;background-color:#fc8164;text-align:right;'>0.0225</td><td style='color:black;background-color:#f18c64;text-align:right;'>0.1050</td></tr>\n",
       "<tr><th style='border:1px solid black;color:black;background-color:#BBBBBB;' rowspan = '2'><center>2</center></th><th style='border:1px solid black;color:black;background-color:#BBBBBB'><center>0</center></th><td style='color:black;background-color:#ff7f64;text-align:right;'>0.0000</td><td style='color:black;background-color:#ff7f64;text-align:right;'>0.0000</td><td style='color:black;background-color:#ff7f64;text-align:right;'>0.0000</td></tr>\n",
       "<tr><th style='border:1px solid black;color:black;background-color:#BBBBBB'><center>1</center></th><td style='color:black;background-color:#ff7f64;text-align:right;'>0.0000</td><td style='color:black;background-color:#ff7f64;text-align:right;'>0.0000</td><td style='color:black;background-color:#ff7f64;text-align:right;'>0.0000</td></tr>\n",
       "<tr><th style='border:1px solid black;color:black;background-color:#BBBBBB;' rowspan = '6'><center>1</center></th><th style='border:1px solid black;color:black;background-color:#BBBBBB;' rowspan = '2'><center>0</center></th><th style='border:1px solid black;color:black;background-color:#BBBBBB'><center>0</center></th><td style='color:black;background-color:#ff7f64;text-align:right;'>0.0000</td><td style='color:black;background-color:#ff7f64;text-align:right;'>0.0000</td><td style='color:black;background-color:#ff7f64;text-align:right;'>0.0000</td></tr>\n",
       "<tr><th style='border:1px solid black;color:black;background-color:#BBBBBB'><center>1</center></th><td style='color:black;background-color:#ff7f64;text-align:right;'>0.0000</td><td style='color:black;background-color:#ff7f64;text-align:right;'>0.0000</td><td style='color:black;background-color:#ff7f64;text-align:right;'>0.0000</td></tr>\n",
       "<tr><th style='border:1px solid black;color:black;background-color:#BBBBBB;' rowspan = '2'><center>1</center></th><th style='border:1px solid black;color:black;background-color:#BBBBBB'><center>0</center></th><td style='color:black;background-color:#ff7f64;text-align:right;'>0.0000</td><td style='color:black;background-color:#fc8164;text-align:right;'>0.0225</td><td style='color:black;background-color:#ff7f64;text-align:right;'>0.0000</td></tr>\n",
       "<tr><th style='border:1px solid black;color:black;background-color:#BBBBBB'><center>1</center></th><td style='color:black;background-color:#ff7f64;text-align:right;'>0.0000</td><td style='color:black;background-color:#fc8164;text-align:right;'>0.0225</td><td style='color:black;background-color:#f18c64;text-align:right;'>0.1050</td></tr>\n",
       "<tr><th style='border:1px solid black;color:black;background-color:#BBBBBB;' rowspan = '2'><center>2</center></th><th style='border:1px solid black;color:black;background-color:#BBBBBB'><center>0</center></th><td style='color:black;background-color:#ff7f64;text-align:right;'>0.0000</td><td style='color:black;background-color:#ff7f64;text-align:right;'>0.0000</td><td style='color:black;background-color:#ff7f64;text-align:right;'>0.0000</td></tr>\n",
       "<tr><th style='border:1px solid black;color:black;background-color:#BBBBBB'><center>1</center></th><td style='color:black;background-color:#ff7f64;text-align:right;'>0.0000</td><td style='color:black;background-color:#ff7f64;text-align:right;'>0.0000</td><td style='color:black;background-color:#ef8e64;text-align:right;'>0.1200</td></tr>\n",
       "<tr><th style='border:1px solid black;color:black;background-color:#BBBBBB;' rowspan = '12'><center>1</center></th><th style='border:1px solid black;color:black;background-color:#BBBBBB;' rowspan = '6'><center>0</center></th><th style='border:1px solid black;color:black;background-color:#BBBBBB;' rowspan = '2'><center>0</center></th><th style='border:1px solid black;color:black;background-color:#BBBBBB'><center>0</center></th><td style='color:black;background-color:#ff7f64;text-align:right;'>0.0000</td><td style='color:black;background-color:#ff7f64;text-align:right;'>0.0000</td><td style='color:black;background-color:#ff7f64;text-align:right;'>0.0000</td></tr>\n",
       "<tr><th style='border:1px solid black;color:black;background-color:#BBBBBB'><center>1</center></th><td style='color:black;background-color:#ff7f64;text-align:right;'>0.0000</td><td style='color:black;background-color:#ff7f64;text-align:right;'>0.0000</td><td style='color:black;background-color:#ff7f64;text-align:right;'>0.0000</td></tr>\n",
       "<tr><th style='border:1px solid black;color:black;background-color:#BBBBBB;' rowspan = '2'><center>1</center></th><th style='border:1px solid black;color:black;background-color:#BBBBBB'><center>0</center></th><td style='color:black;background-color:#ff7f64;text-align:right;'>0.0000</td><td style='color:black;background-color:#fe7f64;text-align:right;'>0.0045</td><td style='color:black;background-color:#ff7f64;text-align:right;'>0.0000</td></tr>\n",
       "<tr><th style='border:1px solid black;color:black;background-color:#BBBBBB'><center>1</center></th><td style='color:black;background-color:#ff7f64;text-align:right;'>0.0000</td><td style='color:black;background-color:#fe7f64;text-align:right;'>0.0045</td><td style='color:black;background-color:#fc8164;text-align:right;'>0.0210</td></tr>\n",
       "<tr><th style='border:1px solid black;color:black;background-color:#BBBBBB;' rowspan = '2'><center>2</center></th><th style='border:1px solid black;color:black;background-color:#BBBBBB'><center>0</center></th><td style='color:black;background-color:#ff7f64;text-align:right;'>0.0000</td><td style='color:black;background-color:#ff7f64;text-align:right;'>0.0000</td><td style='color:black;background-color:#ff7f64;text-align:right;'>0.0000</td></tr>\n",
       "<tr><th style='border:1px solid black;color:black;background-color:#BBBBBB'><center>1</center></th><td style='color:black;background-color:#ff7f64;text-align:right;'>0.0000</td><td style='color:black;background-color:#ff7f64;text-align:right;'>0.0000</td><td style='color:black;background-color:#ff7f64;text-align:right;'>0.0000</td></tr>\n",
       "<tr><th style='border:1px solid black;color:black;background-color:#BBBBBB;' rowspan = '6'><center>1</center></th><th style='border:1px solid black;color:black;background-color:#BBBBBB;' rowspan = '2'><center>0</center></th><th style='border:1px solid black;color:black;background-color:#BBBBBB'><center>0</center></th><td style='color:black;background-color:#ff7f64;text-align:right;'>0.0000</td><td style='color:black;background-color:#ff7f64;text-align:right;'>0.0000</td><td style='color:black;background-color:#ff7f64;text-align:right;'>0.0000</td></tr>\n",
       "<tr><th style='border:1px solid black;color:black;background-color:#BBBBBB'><center>1</center></th><td style='color:black;background-color:#ff7f64;text-align:right;'>0.0000</td><td style='color:black;background-color:#ff7f64;text-align:right;'>0.0000</td><td style='color:black;background-color:#ff7f64;text-align:right;'>0.0000</td></tr>\n",
       "<tr><th style='border:1px solid black;color:black;background-color:#BBBBBB;' rowspan = '2'><center>1</center></th><th style='border:1px solid black;color:black;background-color:#BBBBBB'><center>0</center></th><td style='color:black;background-color:#ff7f64;text-align:right;'>0.0000</td><td style='color:black;background-color:#fe7f64;text-align:right;'>0.0045</td><td style='color:black;background-color:#ff7f64;text-align:right;'>0.0000</td></tr>\n",
       "<tr><th style='border:1px solid black;color:black;background-color:#BBBBBB'><center>1</center></th><td style='color:black;background-color:#ff7f64;text-align:right;'>0.0000</td><td style='color:black;background-color:#fe7f64;text-align:right;'>0.0045</td><td style='color:black;background-color:#fc8164;text-align:right;'>0.0210</td></tr>\n",
       "<tr><th style='border:1px solid black;color:black;background-color:#BBBBBB;' rowspan = '2'><center>2</center></th><th style='border:1px solid black;color:black;background-color:#BBBBBB'><center>0</center></th><td style='color:black;background-color:#ff7f64;text-align:right;'>0.0000</td><td style='color:black;background-color:#ff7f64;text-align:right;'>0.0000</td><td style='color:black;background-color:#ff7f64;text-align:right;'>0.0000</td></tr>\n",
       "<tr><th style='border:1px solid black;color:black;background-color:#BBBBBB'><center>1</center></th><td style='color:black;background-color:#ff7f64;text-align:right;'>0.0000</td><td style='color:black;background-color:#ff7f64;text-align:right;'>0.0000</td><td style='color:black;background-color:#ed9064;text-align:right;'>0.1400</td></tr>\n",
       "<tr><th style='border:1px solid black;color:black;background-color:#BBBBBB;' rowspan = '12'><center>2</center></th><th style='border:1px solid black;color:black;background-color:#BBBBBB;' rowspan = '6'><center>0</center></th><th style='border:1px solid black;color:black;background-color:#BBBBBB;' rowspan = '2'><center>0</center></th><th style='border:1px solid black;color:black;background-color:#BBBBBB'><center>0</center></th><td style='color:black;background-color:#ff7f64;text-align:right;'>0.0000</td><td style='color:black;background-color:#ff7f64;text-align:right;'>0.0000</td><td style='color:black;background-color:#ff7f64;text-align:right;'>0.0000</td></tr>\n",
       "<tr><th style='border:1px solid black;color:black;background-color:#BBBBBB'><center>1</center></th><td style='color:black;background-color:#ff7f64;text-align:right;'>0.0000</td><td style='color:black;background-color:#ff7f64;text-align:right;'>0.0000</td><td style='color:black;background-color:#ff7f64;text-align:right;'>0.0000</td></tr>\n",
       "<tr><th style='border:1px solid black;color:black;background-color:#BBBBBB;' rowspan = '2'><center>1</center></th><th style='border:1px solid black;color:black;background-color:#BBBBBB'><center>0</center></th><td style='color:black;background-color:#ff7f64;text-align:right;'>0.0000</td><td style='color:black;background-color:#ff7f64;text-align:right;'>0.0000</td><td style='color:black;background-color:#ff7f64;text-align:right;'>0.0000</td></tr>\n",
       "<tr><th style='border:1px solid black;color:black;background-color:#BBBBBB'><center>1</center></th><td style='color:black;background-color:#ff7f64;text-align:right;'>0.0000</td><td style='color:black;background-color:#ff7f64;text-align:right;'>0.0000</td><td style='color:black;background-color:#ff7f64;text-align:right;'>0.0000</td></tr>\n",
       "<tr><th style='border:1px solid black;color:black;background-color:#BBBBBB;' rowspan = '2'><center>2</center></th><th style='border:1px solid black;color:black;background-color:#BBBBBB'><center>0</center></th><td style='color:black;background-color:#ff7f64;text-align:right;'>0.0000</td><td style='color:black;background-color:#ff7f64;text-align:right;'>0.0000</td><td style='color:black;background-color:#ff7f64;text-align:right;'>0.0000</td></tr>\n",
       "<tr><th style='border:1px solid black;color:black;background-color:#BBBBBB'><center>1</center></th><td style='color:black;background-color:#ff7f64;text-align:right;'>0.0000</td><td style='color:black;background-color:#ff7f64;text-align:right;'>0.0000</td><td style='color:black;background-color:#ff7f64;text-align:right;'>0.0000</td></tr>\n",
       "<tr><th style='border:1px solid black;color:black;background-color:#BBBBBB;' rowspan = '6'><center>1</center></th><th style='border:1px solid black;color:black;background-color:#BBBBBB;' rowspan = '2'><center>0</center></th><th style='border:1px solid black;color:black;background-color:#BBBBBB'><center>0</center></th><td style='color:black;background-color:#ff7f64;text-align:right;'>0.0000</td><td style='color:black;background-color:#ff7f64;text-align:right;'>0.0000</td><td style='color:black;background-color:#ff7f64;text-align:right;'>0.0000</td></tr>\n",
       "<tr><th style='border:1px solid black;color:black;background-color:#BBBBBB'><center>1</center></th><td style='color:black;background-color:#ff7f64;text-align:right;'>0.0000</td><td style='color:black;background-color:#ff7f64;text-align:right;'>0.0000</td><td style='color:black;background-color:#ff7f64;text-align:right;'>0.0000</td></tr>\n",
       "<tr><th style='border:1px solid black;color:black;background-color:#BBBBBB;' rowspan = '2'><center>1</center></th><th style='border:1px solid black;color:black;background-color:#BBBBBB'><center>0</center></th><td style='color:black;background-color:#ff7f64;text-align:right;'>0.0000</td><td style='color:black;background-color:#ff7f64;text-align:right;'>0.0000</td><td style='color:black;background-color:#ff7f64;text-align:right;'>0.0000</td></tr>\n",
       "<tr><th style='border:1px solid black;color:black;background-color:#BBBBBB'><center>1</center></th><td style='color:black;background-color:#ff7f64;text-align:right;'>0.0000</td><td style='color:black;background-color:#ff7f64;text-align:right;'>0.0000</td><td style='color:black;background-color:#ff7f64;text-align:right;'>0.0000</td></tr>\n",
       "<tr><th style='border:1px solid black;color:black;background-color:#BBBBBB;' rowspan = '2'><center>2</center></th><th style='border:1px solid black;color:black;background-color:#BBBBBB'><center>0</center></th><td style='color:black;background-color:#ff7f64;text-align:right;'>0.0000</td><td style='color:black;background-color:#ff7f64;text-align:right;'>0.0000</td><td style='color:black;background-color:#ff7f64;text-align:right;'>0.0000</td></tr>\n",
       "<tr><th style='border:1px solid black;color:black;background-color:#BBBBBB'><center>1</center></th><td style='color:black;background-color:#ff7f64;text-align:right;'>0.0000</td><td style='color:black;background-color:#ff7f64;text-align:right;'>0.0000</td><td style='color:black;background-color:#ff7f64;text-align:right;'>0.0000</td></tr>\n",
       "<tr><th style='border:1px solid black;color:black;background-color:#BBBBBB;' rowspan = '36'><center>1</center></th><th style='border:1px solid black;color:black;background-color:#BBBBBB;' rowspan = '12'><center>0</center></th><th style='border:1px solid black;color:black;background-color:#BBBBBB;' rowspan = '6'><center>0</center></th><th style='border:1px solid black;color:black;background-color:#BBBBBB;' rowspan = '2'><center>0</center></th><th style='border:1px solid black;color:black;background-color:#BBBBBB'><center>0</center></th><td style='color:black;background-color:#ff7f64;text-align:right;'>0.0000</td><td style='color:black;background-color:#ff7f64;text-align:right;'>0.0000</td><td style='color:black;background-color:#ff7f64;text-align:right;'>0.0000</td></tr>\n",
       "<tr><th style='border:1px solid black;color:black;background-color:#BBBBBB'><center>1</center></th><td style='color:black;background-color:#ff7f64;text-align:right;'>0.0000</td><td style='color:black;background-color:#ff7f64;text-align:right;'>0.0000</td><td style='color:black;background-color:#ff7f64;text-align:right;'>0.0000</td></tr>\n",
       "<tr><th style='border:1px solid black;color:black;background-color:#BBBBBB;' rowspan = '2'><center>1</center></th><th style='border:1px solid black;color:black;background-color:#BBBBBB'><center>0</center></th><td style='color:black;background-color:#ff7f64;text-align:right;'>0.0000</td><td style='color:black;background-color:#ff7f64;text-align:right;'>0.0000</td><td style='color:black;background-color:#ff7f64;text-align:right;'>0.0000</td></tr>\n",
       "<tr><th style='border:1px solid black;color:black;background-color:#BBBBBB'><center>1</center></th><td style='color:black;background-color:#ff7f64;text-align:right;'>0.0000</td><td style='color:black;background-color:#ff7f64;text-align:right;'>0.0000</td><td style='color:black;background-color:#ff7f64;text-align:right;'>0.0000</td></tr>\n",
       "<tr><th style='border:1px solid black;color:black;background-color:#BBBBBB;' rowspan = '2'><center>2</center></th><th style='border:1px solid black;color:black;background-color:#BBBBBB'><center>0</center></th><td style='color:black;background-color:#ff7f64;text-align:right;'>0.0000</td><td style='color:black;background-color:#ff7f64;text-align:right;'>0.0000</td><td style='color:black;background-color:#ff7f64;text-align:right;'>0.0000</td></tr>\n",
       "<tr><th style='border:1px solid black;color:black;background-color:#BBBBBB'><center>1</center></th><td style='color:black;background-color:#ff7f64;text-align:right;'>0.0000</td><td style='color:black;background-color:#ff7f64;text-align:right;'>0.0000</td><td style='color:black;background-color:#ff7f64;text-align:right;'>0.0000</td></tr>\n",
       "<tr><th style='border:1px solid black;color:black;background-color:#BBBBBB;' rowspan = '6'><center>1</center></th><th style='border:1px solid black;color:black;background-color:#BBBBBB;' rowspan = '2'><center>0</center></th><th style='border:1px solid black;color:black;background-color:#BBBBBB'><center>0</center></th><td style='color:black;background-color:#ff7f64;text-align:right;'>0.0000</td><td style='color:black;background-color:#ff7f64;text-align:right;'>0.0000</td><td style='color:black;background-color:#ff7f64;text-align:right;'>0.0000</td></tr>\n",
       "<tr><th style='border:1px solid black;color:black;background-color:#BBBBBB'><center>1</center></th><td style='color:black;background-color:#ff7f64;text-align:right;'>0.0000</td><td style='color:black;background-color:#ff7f64;text-align:right;'>0.0000</td><td style='color:black;background-color:#ff7f64;text-align:right;'>0.0000</td></tr>\n",
       "<tr><th style='border:1px solid black;color:black;background-color:#BBBBBB;' rowspan = '2'><center>1</center></th><th style='border:1px solid black;color:black;background-color:#BBBBBB'><center>0</center></th><td style='color:black;background-color:#ff7f64;text-align:right;'>0.0000</td><td style='color:black;background-color:#ff7f64;text-align:right;'>0.0000</td><td style='color:black;background-color:#ff7f64;text-align:right;'>0.0000</td></tr>\n",
       "<tr><th style='border:1px solid black;color:black;background-color:#BBBBBB'><center>1</center></th><td style='color:black;background-color:#ff7f64;text-align:right;'>0.0000</td><td style='color:black;background-color:#ff7f64;text-align:right;'>0.0000</td><td style='color:black;background-color:#ff7f64;text-align:right;'>0.0000</td></tr>\n",
       "<tr><th style='border:1px solid black;color:black;background-color:#BBBBBB;' rowspan = '2'><center>2</center></th><th style='border:1px solid black;color:black;background-color:#BBBBBB'><center>0</center></th><td style='color:black;background-color:#ff7f64;text-align:right;'>0.0000</td><td style='color:black;background-color:#ff7f64;text-align:right;'>0.0000</td><td style='color:black;background-color:#ff7f64;text-align:right;'>0.0000</td></tr>\n",
       "<tr><th style='border:1px solid black;color:black;background-color:#BBBBBB'><center>1</center></th><td style='color:black;background-color:#ff7f64;text-align:right;'>0.0000</td><td style='color:black;background-color:#ff7f64;text-align:right;'>0.0000</td><td style='color:black;background-color:#ff7f64;text-align:right;'>0.0000</td></tr>\n",
       "<tr><th style='border:1px solid black;color:black;background-color:#BBBBBB;' rowspan = '12'><center>1</center></th><th style='border:1px solid black;color:black;background-color:#BBBBBB;' rowspan = '6'><center>0</center></th><th style='border:1px solid black;color:black;background-color:#BBBBBB;' rowspan = '2'><center>0</center></th><th style='border:1px solid black;color:black;background-color:#BBBBBB'><center>0</center></th><td style='color:black;background-color:#ff7f64;text-align:right;'>0.0000</td><td style='color:black;background-color:#ff7f64;text-align:right;'>0.0000</td><td style='color:black;background-color:#ff7f64;text-align:right;'>0.0000</td></tr>\n",
       "<tr><th style='border:1px solid black;color:black;background-color:#BBBBBB'><center>1</center></th><td style='color:black;background-color:#ff7f64;text-align:right;'>0.0000</td><td style='color:black;background-color:#ff7f64;text-align:right;'>0.0000</td><td style='color:black;background-color:#ff7f64;text-align:right;'>0.0000</td></tr>\n",
       "<tr><th style='border:1px solid black;color:black;background-color:#BBBBBB;' rowspan = '2'><center>1</center></th><th style='border:1px solid black;color:black;background-color:#BBBBBB'><center>0</center></th><td style='color:black;background-color:#ff7f64;text-align:right;'>0.0000</td><td style='color:black;background-color:#fe7f64;text-align:right;'>0.0045</td><td style='color:black;background-color:#ff7f64;text-align:right;'>0.0000</td></tr>\n",
       "<tr><th style='border:1px solid black;color:black;background-color:#BBBBBB'><center>1</center></th><td style='color:black;background-color:#ff7f64;text-align:right;'>0.0000</td><td style='color:black;background-color:#fe7f64;text-align:right;'>0.0045</td><td style='color:black;background-color:#fc8164;text-align:right;'>0.0210</td></tr>\n",
       "<tr><th style='border:1px solid black;color:black;background-color:#BBBBBB;' rowspan = '2'><center>2</center></th><th style='border:1px solid black;color:black;background-color:#BBBBBB'><center>0</center></th><td style='color:black;background-color:#ff7f64;text-align:right;'>0.0000</td><td style='color:black;background-color:#ff7f64;text-align:right;'>0.0000</td><td style='color:black;background-color:#ff7f64;text-align:right;'>0.0000</td></tr>\n",
       "<tr><th style='border:1px solid black;color:black;background-color:#BBBBBB'><center>1</center></th><td style='color:black;background-color:#ff7f64;text-align:right;'>0.0000</td><td style='color:black;background-color:#ff7f64;text-align:right;'>0.0000</td><td style='color:black;background-color:#ff7f64;text-align:right;'>0.0000</td></tr>\n",
       "<tr><th style='border:1px solid black;color:black;background-color:#BBBBBB;' rowspan = '6'><center>1</center></th><th style='border:1px solid black;color:black;background-color:#BBBBBB;' rowspan = '2'><center>0</center></th><th style='border:1px solid black;color:black;background-color:#BBBBBB'><center>0</center></th><td style='color:black;background-color:#ff7f64;text-align:right;'>0.0000</td><td style='color:black;background-color:#ff7f64;text-align:right;'>0.0000</td><td style='color:black;background-color:#ff7f64;text-align:right;'>0.0000</td></tr>\n",
       "<tr><th style='border:1px solid black;color:black;background-color:#BBBBBB'><center>1</center></th><td style='color:black;background-color:#ff7f64;text-align:right;'>0.0000</td><td style='color:black;background-color:#ff7f64;text-align:right;'>0.0000</td><td style='color:black;background-color:#ff7f64;text-align:right;'>0.0000</td></tr>\n",
       "<tr><th style='border:1px solid black;color:black;background-color:#BBBBBB;' rowspan = '2'><center>1</center></th><th style='border:1px solid black;color:black;background-color:#BBBBBB'><center>0</center></th><td style='color:black;background-color:#ff7f64;text-align:right;'>0.0000</td><td style='color:black;background-color:#fe7f64;text-align:right;'>0.0045</td><td style='color:black;background-color:#ff7f64;text-align:right;'>0.0000</td></tr>\n",
       "<tr><th style='border:1px solid black;color:black;background-color:#BBBBBB'><center>1</center></th><td style='color:black;background-color:#ff7f64;text-align:right;'>0.0000</td><td style='color:black;background-color:#fe7f64;text-align:right;'>0.0045</td><td style='color:black;background-color:#fc8164;text-align:right;'>0.0210</td></tr>\n",
       "<tr><th style='border:1px solid black;color:black;background-color:#BBBBBB;' rowspan = '2'><center>2</center></th><th style='border:1px solid black;color:black;background-color:#BBBBBB'><center>0</center></th><td style='color:black;background-color:#ff7f64;text-align:right;'>0.0000</td><td style='color:black;background-color:#ff7f64;text-align:right;'>0.0000</td><td style='color:black;background-color:#ff7f64;text-align:right;'>0.0000</td></tr>\n",
       "<tr><th style='border:1px solid black;color:black;background-color:#BBBBBB'><center>1</center></th><td style='color:black;background-color:#ff7f64;text-align:right;'>0.0000</td><td style='color:black;background-color:#ff7f64;text-align:right;'>0.0000</td><td style='color:black;background-color:#ed9064;text-align:right;'>0.1400</td></tr>\n",
       "<tr><th style='border:1px solid black;color:black;background-color:#BBBBBB;' rowspan = '12'><center>2</center></th><th style='border:1px solid black;color:black;background-color:#BBBBBB;' rowspan = '6'><center>0</center></th><th style='border:1px solid black;color:black;background-color:#BBBBBB;' rowspan = '2'><center>0</center></th><th style='border:1px solid black;color:black;background-color:#BBBBBB'><center>0</center></th><td style='color:black;background-color:#ff7f64;text-align:right;'>0.0000</td><td style='color:black;background-color:#ff7f64;text-align:right;'>0.0000</td><td style='color:black;background-color:#ff7f64;text-align:right;'>0.0000</td></tr>\n",
       "<tr><th style='border:1px solid black;color:black;background-color:#BBBBBB'><center>1</center></th><td style='color:black;background-color:#ff7f64;text-align:right;'>0.0000</td><td style='color:black;background-color:#ff7f64;text-align:right;'>0.0000</td><td style='color:black;background-color:#ff7f64;text-align:right;'>0.0000</td></tr>\n",
       "<tr><th style='border:1px solid black;color:black;background-color:#BBBBBB;' rowspan = '2'><center>1</center></th><th style='border:1px solid black;color:black;background-color:#BBBBBB'><center>0</center></th><td style='color:black;background-color:#ff7f64;text-align:right;'>0.0000</td><td style='color:black;background-color:#ff7f64;text-align:right;'>0.0000</td><td style='color:black;background-color:#ff7f64;text-align:right;'>0.0000</td></tr>\n",
       "<tr><th style='border:1px solid black;color:black;background-color:#BBBBBB'><center>1</center></th><td style='color:black;background-color:#ff7f64;text-align:right;'>0.0000</td><td style='color:black;background-color:#ff7f64;text-align:right;'>0.0000</td><td style='color:black;background-color:#ff7f64;text-align:right;'>0.0000</td></tr>\n",
       "<tr><th style='border:1px solid black;color:black;background-color:#BBBBBB;' rowspan = '2'><center>2</center></th><th style='border:1px solid black;color:black;background-color:#BBBBBB'><center>0</center></th><td style='color:black;background-color:#ff7f64;text-align:right;'>0.0000</td><td style='color:black;background-color:#ff7f64;text-align:right;'>0.0000</td><td style='color:black;background-color:#ff7f64;text-align:right;'>0.0000</td></tr>\n",
       "<tr><th style='border:1px solid black;color:black;background-color:#BBBBBB'><center>1</center></th><td style='color:black;background-color:#ff7f64;text-align:right;'>0.0000</td><td style='color:black;background-color:#ff7f64;text-align:right;'>0.0000</td><td style='color:black;background-color:#ff7f64;text-align:right;'>0.0000</td></tr>\n",
       "<tr><th style='border:1px solid black;color:black;background-color:#BBBBBB;' rowspan = '6'><center>1</center></th><th style='border:1px solid black;color:black;background-color:#BBBBBB;' rowspan = '2'><center>0</center></th><th style='border:1px solid black;color:black;background-color:#BBBBBB'><center>0</center></th><td style='color:black;background-color:#ff7f64;text-align:right;'>0.0000</td><td style='color:black;background-color:#ff7f64;text-align:right;'>0.0000</td><td style='color:black;background-color:#ff7f64;text-align:right;'>0.0000</td></tr>\n",
       "<tr><th style='border:1px solid black;color:black;background-color:#BBBBBB'><center>1</center></th><td style='color:black;background-color:#ff7f64;text-align:right;'>0.0000</td><td style='color:black;background-color:#ff7f64;text-align:right;'>0.0000</td><td style='color:black;background-color:#ff7f64;text-align:right;'>0.0000</td></tr>\n",
       "<tr><th style='border:1px solid black;color:black;background-color:#BBBBBB;' rowspan = '2'><center>1</center></th><th style='border:1px solid black;color:black;background-color:#BBBBBB'><center>0</center></th><td style='color:black;background-color:#ff7f64;text-align:right;'>0.0000</td><td style='color:black;background-color:#ff7f64;text-align:right;'>0.0000</td><td style='color:black;background-color:#ff7f64;text-align:right;'>0.0000</td></tr>\n",
       "<tr><th style='border:1px solid black;color:black;background-color:#BBBBBB'><center>1</center></th><td style='color:black;background-color:#ff7f64;text-align:right;'>0.0000</td><td style='color:black;background-color:#ff7f64;text-align:right;'>0.0000</td><td style='color:black;background-color:#ff7f64;text-align:right;'>0.0000</td></tr>\n",
       "<tr><th style='border:1px solid black;color:black;background-color:#BBBBBB;' rowspan = '2'><center>2</center></th><th style='border:1px solid black;color:black;background-color:#BBBBBB'><center>0</center></th><td style='color:black;background-color:#ff7f64;text-align:right;'>0.0000</td><td style='color:black;background-color:#ff7f64;text-align:right;'>0.0000</td><td style='color:black;background-color:#ff7f64;text-align:right;'>0.0000</td></tr>\n",
       "<tr><th style='border:1px solid black;color:black;background-color:#BBBBBB'><center>1</center></th><td style='color:black;background-color:#ff7f64;text-align:right;'>0.0000</td><td style='color:black;background-color:#ff7f64;text-align:right;'>0.0000</td><td style='color:black;background-color:#ff7f64;text-align:right;'>0.0000</td></tr>\n",
       "</table>"
      ],
      "text/plain": [
       "(gum::Potential<double>@0x15dfb71e400) <x3:0|y3:0|x2:0|y2:0|x1:0|y1:0> :: 0.054 /<x3:1|y3:0|x2:0|y2:0|x1:0|y1:0> :: 0.045 /<x3:2|y3:0|x2:0|y2:0|x1:0|y1:0> :: 0 /<x3:0|y3:1|x2:0|y2:0|x1:0|y1:0> :: 0 /<x3:1|y3:1|x2:0|y2:0|x1:0|y1:0> :: 0.045 /<x3:2|y3:1|x2:0|y2:0|x1:0|y1:0> :: 0.036 /<x3:0|y3:0|x2:1|y2:0|x1:0|y1:0> :: 0 /<x3:1|y3:0|x2:1|y2:0|x1:0|y1:0> :: 0.0225 /<x3:2|y3:0|x2:1|y2:0|x1:0|y1:0> :: 0 /<x3:0|y3:1|x2:1|y2:0|x1:0|y1:0> :: 0 /<x3:1|y3:1|x2:1|y2:0|x1:0|y1:0> :: 0.0225 /<x3:2|y3:1|x2:1|y2:0|x1:0|y1:0> :: 0.105 /<x3:0|y3:0|x2:2|y2:0|x1:0|y1:0> :: 0 /<x3:1|y3:0|x2:2|y2:0|x1:0|y1:0> :: 0 /<x3:2|y3:0|x2:2|y2:0|x1:0|y1:0> :: 0 /<x3:0|y3:1|x2:2|y2:0|x1:0|y1:0> :: 0 /<x3:1|y3:1|x2:2|y2:0|x1:0|y1:0> :: 0 /<x3:2|y3:1|x2:2|y2:0|x1:0|y1:0> :: 0 /<x3:0|y3:0|x2:0|y2:1|x1:0|y1:0> :: 0 /<x3:1|y3:0|x2:0|y2:1|x1:0|y1:0> :: 0 /<x3:2|y3:0|x2:0|y2:1|x1:0|y1:0> :: 0 /<x3:0|y3:1|x2:0|y2:1|x1:0|y1:0> :: 0 /<x3:1|y3:1|x2:0|y2:1|x1:0|y1:0> :: 0 /<x3:2|y3:1|x2:0|y2:1|x1:0|y1:0> :: 0 /<x3:0|y3:0|x2:1|y2:1|x1:0|y1:0> :: 0 /<x3:1|y3:0|x2:1|y2:1|x1:0|y1:0> :: 0.0225 /<x3:2|y3:0|x2:1|y2:1|x1:0|y1:0> :: 0 /<x3:0|y3:1|x2:1|y2:1|x1:0|y1:0> :: 0 /<x3:1|y3:1|x2:1|y2:1|x1:0|y1:0> :: 0.0225 /<x3:2|y3:1|x2:1|y2:1|x1:0|y1:0> :: 0.105 /<x3:0|y3:0|x2:2|y2:1|x1:0|y1:0> :: 0 /<x3:1|y3:0|x2:2|y2:1|x1:0|y1:0> :: 0 /<x3:2|y3:0|x2:2|y2:1|x1:0|y1:0> :: 0 /<x3:0|y3:1|x2:2|y2:1|x1:0|y1:0> :: 0 /<x3:1|y3:1|x2:2|y2:1|x1:0|y1:0> :: 0 /<x3:2|y3:1|x2:2|y2:1|x1:0|y1:0> :: 0.12 /<x3:0|y3:0|x2:0|y2:0|x1:1|y1:0> :: 0 /<x3:1|y3:0|x2:0|y2:0|x1:1|y1:0> :: 0 /<x3:2|y3:0|x2:0|y2:0|x1:1|y1:0> :: 0 /<x3:0|y3:1|x2:0|y2:0|x1:1|y1:0> :: 0 /<x3:1|y3:1|x2:0|y2:0|x1:1|y1:0> :: 0 /<x3:2|y3:1|x2:0|y2:0|x1:1|y1:0> :: 0 /<x3:0|y3:0|x2:1|y2:0|x1:1|y1:0> :: 0 /<x3:1|y3:0|x2:1|y2:0|x1:1|y1:0> :: 0.0045 /<x3:2|y3:0|x2:1|y2:0|x1:1|y1:0> :: 0 /<x3:0|y3:1|x2:1|y2:0|x1:1|y1:0> :: 0 /<x3:1|y3:1|x2:1|y2:0|x1:1|y1:0> :: 0.0045 /<x3:2|y3:1|x2:1|y2:0|x1:1|y1:0> :: 0.021 /<x3:0|y3:0|x2:2|y2:0|x1:1|y1:0> :: 0 /<x3:1|y3:0|x2:2|y2:0|x1:1|y1:0> :: 0 /<x3:2|y3:0|x2:2|y2:0|x1:1|y1:0> :: 0 /<x3:0|y3:1|x2:2|y2:0|x1:1|y1:0> :: 0 /<x3:1|y3:1|x2:2|y2:0|x1:1|y1:0> :: 0 /<x3:2|y3:1|x2:2|y2:0|x1:1|y1:0> :: 0 /<x3:0|y3:0|x2:0|y2:1|x1:1|y1:0> :: 0 /<x3:1|y3:0|x2:0|y2:1|x1:1|y1:0> :: 0 /<x3:2|y3:0|x2:0|y2:1|x1:1|y1:0> :: 0 /<x3:0|y3:1|x2:0|y2:1|x1:1|y1:0> :: 0 /<x3:1|y3:1|x2:0|y2:1|x1:1|y1:0> :: 0 /<x3:2|y3:1|x2:0|y2:1|x1:1|y1:0> :: 0 /<x3:0|y3:0|x2:1|y2:1|x1:1|y1:0> :: 0 /<x3:1|y3:0|x2:1|y2:1|x1:1|y1:0> :: 0.0045 /<x3:2|y3:0|x2:1|y2:1|x1:1|y1:0> :: 0 /<x3:0|y3:1|x2:1|y2:1|x1:1|y1:0> :: 0 /<x3:1|y3:1|x2:1|y2:1|x1:1|y1:0> :: 0.0045 /<x3:2|y3:1|x2:1|y2:1|x1:1|y1:0> :: 0.021 /<x3:0|y3:0|x2:2|y2:1|x1:1|y1:0> :: 0 /<x3:1|y3:0|x2:2|y2:1|x1:1|y1:0> :: 0 /<x3:2|y3:0|x2:2|y2:1|x1:1|y1:0> :: 0 /<x3:0|y3:1|x2:2|y2:1|x1:1|y1:0> :: 0 /<x3:1|y3:1|x2:2|y2:1|x1:1|y1:0> :: 0 /<x3:2|y3:1|x2:2|y2:1|x1:1|y1:0> :: 0.14 /<x3:0|y3:0|x2:0|y2:0|x1:2|y1:0> :: 0 /<x3:1|y3:0|x2:0|y2:0|x1:2|y1:0> :: 0 /<x3:2|y3:0|x2:0|y2:0|x1:2|y1:0> :: 0 /<x3:0|y3:1|x2:0|y2:0|x1:2|y1:0> :: 0 /<x3:1|y3:1|x2:0|y2:0|x1:2|y1:0> :: 0 /<x3:2|y3:1|x2:0|y2:0|x1:2|y1:0> :: 0 /<x3:0|y3:0|x2:1|y2:0|x1:2|y1:0> :: 0 /<x3:1|y3:0|x2:1|y2:0|x1:2|y1:0> :: 0 /<x3:2|y3:0|x2:1|y2:0|x1:2|y1:0> :: 0 /<x3:0|y3:1|x2:1|y2:0|x1:2|y1:0> :: 0 /<x3:1|y3:1|x2:1|y2:0|x1:2|y1:0> :: 0 /<x3:2|y3:1|x2:1|y2:0|x1:2|y1:0> :: 0 /<x3:0|y3:0|x2:2|y2:0|x1:2|y1:0> :: 0 /<x3:1|y3:0|x2:2|y2:0|x1:2|y1:0> :: 0 /<x3:2|y3:0|x2:2|y2:0|x1:2|y1:0> :: 0 /<x3:0|y3:1|x2:2|y2:0|x1:2|y1:0> :: 0 /<x3:1|y3:1|x2:2|y2:0|x1:2|y1:0> :: 0 /<x3:2|y3:1|x2:2|y2:0|x1:2|y1:0> :: 0 /<x3:0|y3:0|x2:0|y2:1|x1:2|y1:0> :: 0 /<x3:1|y3:0|x2:0|y2:1|x1:2|y1:0> :: 0 /<x3:2|y3:0|x2:0|y2:1|x1:2|y1:0> :: 0 /<x3:0|y3:1|x2:0|y2:1|x1:2|y1:0> :: 0 /<x3:1|y3:1|x2:0|y2:1|x1:2|y1:0> :: 0 /<x3:2|y3:1|x2:0|y2:1|x1:2|y1:0> :: 0 /<x3:0|y3:0|x2:1|y2:1|x1:2|y1:0> :: 0 /<x3:1|y3:0|x2:1|y2:1|x1:2|y1:0> :: 0 /<x3:2|y3:0|x2:1|y2:1|x1:2|y1:0> :: 0 /<x3:0|y3:1|x2:1|y2:1|x1:2|y1:0> :: 0 /<x3:1|y3:1|x2:1|y2:1|x1:2|y1:0> :: 0 /<x3:2|y3:1|x2:1|y2:1|x1:2|y1:0> :: 0 /<x3:0|y3:0|x2:2|y2:1|x1:2|y1:0> :: 0 /<x3:1|y3:0|x2:2|y2:1|x1:2|y1:0> :: 0 /<x3:2|y3:0|x2:2|y2:1|x1:2|y1:0> :: 0 /<x3:0|y3:1|x2:2|y2:1|x1:2|y1:0> :: 0 /<x3:1|y3:1|x2:2|y2:1|x1:2|y1:0> :: 0 /<x3:2|y3:1|x2:2|y2:1|x1:2|y1:0> :: 0 /<x3:0|y3:0|x2:0|y2:0|x1:0|y1:1> :: 0 /<x3:1|y3:0|x2:0|y2:0|x1:0|y1:1> :: 0 /<x3:2|y3:0|x2:0|y2:0|x1:0|y1:1> :: 0 /<x3:0|y3:1|x2:0|y2:0|x1:0|y1:1> :: 0 /<x3:1|y3:1|x2:0|y2:0|x1:0|y1:1> :: 0 /<x3:2|y3:1|x2:0|y2:0|x1:0|y1:1> :: 0 /<x3:0|y3:0|x2:1|y2:0|x1:0|y1:1> :: 0 /<x3:1|y3:0|x2:1|y2:0|x1:0|y1:1> :: 0 /<x3:2|y3:0|x2:1|y2:0|x1:0|y1:1> :: 0 /<x3:0|y3:1|x2:1|y2:0|x1:0|y1:1> :: 0 /<x3:1|y3:1|x2:1|y2:0|x1:0|y1:1> :: 0 /<x3:2|y3:1|x2:1|y2:0|x1:0|y1:1> :: 0 /<x3:0|y3:0|x2:2|y2:0|x1:0|y1:1> :: 0 /<x3:1|y3:0|x2:2|y2:0|x1:0|y1:1> :: 0 /<x3:2|y3:0|x2:2|y2:0|x1:0|y1:1> :: 0 /<x3:0|y3:1|x2:2|y2:0|x1:0|y1:1> :: 0 /<x3:1|y3:1|x2:2|y2:0|x1:0|y1:1> :: 0 /<x3:2|y3:1|x2:2|y2:0|x1:0|y1:1> :: 0 /<x3:0|y3:0|x2:0|y2:1|x1:0|y1:1> :: 0 /<x3:1|y3:0|x2:0|y2:1|x1:0|y1:1> :: 0 /<x3:2|y3:0|x2:0|y2:1|x1:0|y1:1> :: 0 /<x3:0|y3:1|x2:0|y2:1|x1:0|y1:1> :: 0 /<x3:1|y3:1|x2:0|y2:1|x1:0|y1:1> :: 0 /<x3:2|y3:1|x2:0|y2:1|x1:0|y1:1> :: 0 /<x3:0|y3:0|x2:1|y2:1|x1:0|y1:1> :: 0 /<x3:1|y3:0|x2:1|y2:1|x1:0|y1:1> :: 0 /<x3:2|y3:0|x2:1|y2:1|x1:0|y1:1> :: 0 /<x3:0|y3:1|x2:1|y2:1|x1:0|y1:1> :: 0 /<x3:1|y3:1|x2:1|y2:1|x1:0|y1:1> :: 0 /<x3:2|y3:1|x2:1|y2:1|x1:0|y1:1> :: 0 /<x3:0|y3:0|x2:2|y2:1|x1:0|y1:1> :: 0 /<x3:1|y3:0|x2:2|y2:1|x1:0|y1:1> :: 0 /<x3:2|y3:0|x2:2|y2:1|x1:0|y1:1> :: 0 /<x3:0|y3:1|x2:2|y2:1|x1:0|y1:1> :: 0 /<x3:1|y3:1|x2:2|y2:1|x1:0|y1:1> :: 0 /<x3:2|y3:1|x2:2|y2:1|x1:0|y1:1> :: 0 /<x3:0|y3:0|x2:0|y2:0|x1:1|y1:1> :: 0 /<x3:1|y3:0|x2:0|y2:0|x1:1|y1:1> :: 0 /<x3:2|y3:0|x2:0|y2:0|x1:1|y1:1> :: 0 /<x3:0|y3:1|x2:0|y2:0|x1:1|y1:1> :: 0 /<x3:1|y3:1|x2:0|y2:0|x1:1|y1:1> :: 0 /<x3:2|y3:1|x2:0|y2:0|x1:1|y1:1> :: 0 /<x3:0|y3:0|x2:1|y2:0|x1:1|y1:1> :: 0 /<x3:1|y3:0|x2:1|y2:0|x1:1|y1:1> :: 0.0045 /<x3:2|y3:0|x2:1|y2:0|x1:1|y1:1> :: 0 /<x3:0|y3:1|x2:1|y2:0|x1:1|y1:1> :: 0 /<x3:1|y3:1|x2:1|y2:0|x1:1|y1:1> :: 0.0045 /<x3:2|y3:1|x2:1|y2:0|x1:1|y1:1> :: 0.021 /<x3:0|y3:0|x2:2|y2:0|x1:1|y1:1> :: 0 /<x3:1|y3:0|x2:2|y2:0|x1:1|y1:1> :: 0 /<x3:2|y3:0|x2:2|y2:0|x1:1|y1:1> :: 0 /<x3:0|y3:1|x2:2|y2:0|x1:1|y1:1> :: 0 /<x3:1|y3:1|x2:2|y2:0|x1:1|y1:1> :: 0 /<x3:2|y3:1|x2:2|y2:0|x1:1|y1:1> :: 0 /<x3:0|y3:0|x2:0|y2:1|x1:1|y1:1> :: 0 /<x3:1|y3:0|x2:0|y2:1|x1:1|y1:1> :: 0 /<x3:2|y3:0|x2:0|y2:1|x1:1|y1:1> :: 0 /<x3:0|y3:1|x2:0|y2:1|x1:1|y1:1> :: 0 /<x3:1|y3:1|x2:0|y2:1|x1:1|y1:1> :: 0 /<x3:2|y3:1|x2:0|y2:1|x1:1|y1:1> :: 0 /<x3:0|y3:0|x2:1|y2:1|x1:1|y1:1> :: 0 /<x3:1|y3:0|x2:1|y2:1|x1:1|y1:1> :: 0.0045 /<x3:2|y3:0|x2:1|y2:1|x1:1|y1:1> :: 0 /<x3:0|y3:1|x2:1|y2:1|x1:1|y1:1> :: 0 /<x3:1|y3:1|x2:1|y2:1|x1:1|y1:1> :: 0.0045 /<x3:2|y3:1|x2:1|y2:1|x1:1|y1:1> :: 0.021 /<x3:0|y3:0|x2:2|y2:1|x1:1|y1:1> :: 0 /<x3:1|y3:0|x2:2|y2:1|x1:1|y1:1> :: 0 /<x3:2|y3:0|x2:2|y2:1|x1:1|y1:1> :: 0 /<x3:0|y3:1|x2:2|y2:1|x1:1|y1:1> :: 0 /<x3:1|y3:1|x2:2|y2:1|x1:1|y1:1> :: 0 /<x3:2|y3:1|x2:2|y2:1|x1:1|y1:1> :: 0.14 /<x3:0|y3:0|x2:0|y2:0|x1:2|y1:1> :: 0 /<x3:1|y3:0|x2:0|y2:0|x1:2|y1:1> :: 0 /<x3:2|y3:0|x2:0|y2:0|x1:2|y1:1> :: 0 /<x3:0|y3:1|x2:0|y2:0|x1:2|y1:1> :: 0 /<x3:1|y3:1|x2:0|y2:0|x1:2|y1:1> :: 0 /<x3:2|y3:1|x2:0|y2:0|x1:2|y1:1> :: 0 /<x3:0|y3:0|x2:1|y2:0|x1:2|y1:1> :: 0 /<x3:1|y3:0|x2:1|y2:0|x1:2|y1:1> :: 0 /<x3:2|y3:0|x2:1|y2:0|x1:2|y1:1> :: 0 /<x3:0|y3:1|x2:1|y2:0|x1:2|y1:1> :: 0 /<x3:1|y3:1|x2:1|y2:0|x1:2|y1:1> :: 0 /<x3:2|y3:1|x2:1|y2:0|x1:2|y1:1> :: 0 /<x3:0|y3:0|x2:2|y2:0|x1:2|y1:1> :: 0 /<x3:1|y3:0|x2:2|y2:0|x1:2|y1:1> :: 0 /<x3:2|y3:0|x2:2|y2:0|x1:2|y1:1> :: 0 /<x3:0|y3:1|x2:2|y2:0|x1:2|y1:1> :: 0 /<x3:1|y3:1|x2:2|y2:0|x1:2|y1:1> :: 0 /<x3:2|y3:1|x2:2|y2:0|x1:2|y1:1> :: 0 /<x3:0|y3:0|x2:0|y2:1|x1:2|y1:1> :: 0 /<x3:1|y3:0|x2:0|y2:1|x1:2|y1:1> :: 0 /<x3:2|y3:0|x2:0|y2:1|x1:2|y1:1> :: 0 /<x3:0|y3:1|x2:0|y2:1|x1:2|y1:1> :: 0 /<x3:1|y3:1|x2:0|y2:1|x1:2|y1:1> :: 0 /<x3:2|y3:1|x2:0|y2:1|x1:2|y1:1> :: 0 /<x3:0|y3:0|x2:1|y2:1|x1:2|y1:1> :: 0 /<x3:1|y3:0|x2:1|y2:1|x1:2|y1:1> :: 0 /<x3:2|y3:0|x2:1|y2:1|x1:2|y1:1> :: 0 /<x3:0|y3:1|x2:1|y2:1|x1:2|y1:1> :: 0 /<x3:1|y3:1|x2:1|y2:1|x1:2|y1:1> :: 0 /<x3:2|y3:1|x2:1|y2:1|x1:2|y1:1> :: 0 /<x3:0|y3:0|x2:2|y2:1|x1:2|y1:1> :: 0 /<x3:1|y3:0|x2:2|y2:1|x1:2|y1:1> :: 0 /<x3:2|y3:0|x2:2|y2:1|x1:2|y1:1> :: 0 /<x3:0|y3:1|x2:2|y2:1|x1:2|y1:1> :: 0 /<x3:1|y3:1|x2:2|y2:1|x1:2|y1:1> :: 0 /<x3:2|y3:1|x2:2|y2:1|x1:2|y1:1> :: 0"
      ]
     },
     "execution_count": 68,
     "metadata": {},
     "output_type": "execute_result"
    }
   ],
   "source": [
    "p123=mc.cpt(\"x1\")*mc.cpt(\"y1\")*mc.cpt(\"x2\")*mc.cpt(\"y2\")*mc.cpt(\"x3\")*mc.cpt(\"y3\")\n",
    "p123"
   ]
  },
  {
   "cell_type": "code",
   "execution_count": 82,
   "metadata": {},
   "outputs": [
    {
     "name": "stdout",
     "output_type": "stream",
     "text": [
      "Proba d'obtenir la suite aab : 0.234\n"
     ]
    },
    {
     "data": {
      "text/html": [
       "<table style=\"border:1px solid black;\">\n",
       "<tr><th colspan='2'></th><th colspan='2' style='border:1px solid black;color:black;background-color:#808080;'><center>y3</center></th></tr>\n",
       "<tr><th style='border:1px solid black;color:black;background-color:#808080'><center>y1</center></th><th style='border:1px solid black;color:black;background-color:#808080'><center>y2</center></th><th style='border:1px solid black;border-bottom-style: double;color:black;background-color:#BBBBBB'><center>0</center></th><th style='border:1px solid black;border-bottom-style: double;color:black;background-color:#BBBBBB'><center>1</center></th></tr>\n",
       "<tr><th style='border:1px solid black;color:black;background-color:#BBBBBB;' rowspan = '2'><center>0</center></th><th style='border:1px solid black;color:black;background-color:#BBBBBB'><center>0</center></th><td style='color:black;background-color:#ee8f64;text-align:right;'>0.1260</td><td style='color:black;background-color:#e19c64;text-align:right;'>0.2340</td></tr>\n",
       "<tr><th style='border:1px solid black;color:black;background-color:#BBBBBB'><center>1</center></th><td style='color:black;background-color:#fb8264;text-align:right;'>0.0270</td><td style='color:black;background-color:#cab364;text-align:right;'>0.4130</td></tr>\n",
       "<tr><th style='border:1px solid black;color:black;background-color:#BBBBBB;' rowspan = '2'><center>1</center></th><th style='border:1px solid black;color:black;background-color:#BBBBBB'><center>0</center></th><td style='color:black;background-color:#fe7f64;text-align:right;'>0.0045</td><td style='color:black;background-color:#fb8264;text-align:right;'>0.0255</td></tr>\n",
       "<tr><th style='border:1px solid black;color:black;background-color:#BBBBBB'><center>1</center></th><td style='color:black;background-color:#fe7f64;text-align:right;'>0.0045</td><td style='color:black;background-color:#e99464;text-align:right;'>0.1655</td></tr>\n",
       "</table>"
      ],
      "text/plain": [
       "(gum::Potential<double>@0x15dfb6f71d0) <y3:0|y2:0|y1:0> :: 0.126 /<y3:1|y2:0|y1:0> :: 0.234 /<y3:0|y2:1|y1:0> :: 0.027 /<y3:1|y2:1|y1:0> :: 0.413 /<y3:0|y2:0|y1:1> :: 0.0045 /<y3:1|y2:0|y1:1> :: 0.0255 /<y3:0|y2:1|y1:1> :: 0.0045 /<y3:1|y2:1|y1:1> :: 0.1655"
      ]
     },
     "execution_count": 82,
     "metadata": {},
     "output_type": "execute_result"
    }
   ],
   "source": [
    "pY=p123.margSumOut([\"x1\",\"x2\",\"x3\"])\n",
    "print(\"Proba d'obtenir la suite aab : {}\".format(round(pY[0,0,1], 3)))\n",
    "pY"
   ]
  },
  {
   "cell_type": "code",
   "execution_count": 80,
   "metadata": {},
   "outputs": [
    {
     "data": {
      "text/html": [
       "<table style=\"border:1px solid black;\">\n",
       "<tr><th colspan='2'></th><th colspan='3' style='border:1px solid black;color:black;background-color:#808080;'><center>x3</center></th></tr>\n",
       "<tr><th style='border:1px solid black;color:black;background-color:#808080'><center>x1</center></th><th style='border:1px solid black;color:black;background-color:#808080'><center>x2</center></th><th style='border:1px solid black;border-bottom-style: double;color:black;background-color:#BBBBBB'><center>0</center></th><th style='border:1px solid black;border-bottom-style: double;color:black;background-color:#BBBBBB'><center>1</center></th><th style='border:1px solid black;border-bottom-style: double;color:black;background-color:#BBBBBB'><center>2</center></th></tr>\n",
       "<tr><th style='border:1px solid black;color:black;background-color:#BBBBBB;' rowspan = '3'><center>0</center></th><th style='border:1px solid black;color:black;background-color:#BBBBBB'><center>0</center></th><td style='color:black;background-color:#ff7f64;text-align:right;'>0.0000</td><td style='color:black;background-color:#f28b64;text-align:right;'>0.0949</td><td style='color:black;background-color:#e39a64;text-align:right;'>0.2135</td></tr>\n",
       "<tr><th style='border:1px solid black;color:black;background-color:#BBBBBB'><center>1</center></th><td style='color:black;background-color:#ff7f64;text-align:right;'>0.0000</td><td style='color:black;background-color:#e89564;text-align:right;'>0.1793</td><td style='color:black;background-color:#cbb264;text-align:right;'>0.4033</td></tr>\n",
       "<tr><th style='border:1px solid black;color:black;background-color:#BBBBBB'><center>2</center></th><td style='color:black;background-color:#ff7f64;text-align:right;'>0.0000</td><td style='color:black;background-color:#ff7f64;text-align:right;'>0.0000</td><td style='color:black;background-color:#ff7f64;text-align:right;'>0.0000</td></tr>\n",
       "<tr><th style='border:1px solid black;color:black;background-color:#BBBBBB;' rowspan = '3'><center>1</center></th><th style='border:1px solid black;color:black;background-color:#BBBBBB'><center>0</center></th><td style='color:black;background-color:#ff7f64;text-align:right;'>0.0000</td><td style='color:black;background-color:#fd8064;text-align:right;'>0.0116</td><td style='color:black;background-color:#fb8264;text-align:right;'>0.0261</td></tr>\n",
       "<tr><th style='border:1px solid black;color:black;background-color:#BBBBBB'><center>1</center></th><td style='color:black;background-color:#ff7f64;text-align:right;'>0.0000</td><td style='color:black;background-color:#fc8164;text-align:right;'>0.0219</td><td style='color:black;background-color:#f88564;text-align:right;'>0.0493</td></tr>\n",
       "<tr><th style='border:1px solid black;color:black;background-color:#BBBBBB'><center>2</center></th><td style='color:black;background-color:#ff7f64;text-align:right;'>0.0000</td><td style='color:black;background-color:#ff7f64;text-align:right;'>0.0000</td><td style='color:black;background-color:#ff7f64;text-align:right;'>0.0000</td></tr>\n",
       "<tr><th style='border:1px solid black;color:black;background-color:#BBBBBB;' rowspan = '3'><center>2</center></th><th style='border:1px solid black;color:black;background-color:#BBBBBB'><center>0</center></th><td style='color:black;background-color:#ff7f64;text-align:right;'>0.0000</td><td style='color:black;background-color:#ff7f64;text-align:right;'>0.0000</td><td style='color:black;background-color:#ff7f64;text-align:right;'>0.0000</td></tr>\n",
       "<tr><th style='border:1px solid black;color:black;background-color:#BBBBBB'><center>1</center></th><td style='color:black;background-color:#ff7f64;text-align:right;'>0.0000</td><td style='color:black;background-color:#ff7f64;text-align:right;'>0.0000</td><td style='color:black;background-color:#ff7f64;text-align:right;'>0.0000</td></tr>\n",
       "<tr><th style='border:1px solid black;color:black;background-color:#BBBBBB'><center>2</center></th><td style='color:black;background-color:#ff7f64;text-align:right;'>0.0000</td><td style='color:black;background-color:#ff7f64;text-align:right;'>0.0000</td><td style='color:black;background-color:#ff7f64;text-align:right;'>0.0000</td></tr>\n",
       "</table>"
      ],
      "text/plain": [
       "(gum::Potential<double>@0x15dfb6f7250) <x3:0|x2:0|x1:0> :: 0 /<x3:1|x2:0|x1:0> :: 0.0949021 /<x3:2|x2:0|x1:0> :: 0.21353 /<x3:0|x2:1|x1:0> :: 0 /<x3:1|x2:1|x1:0> :: 0.17926 /<x3:2|x2:1|x1:0> :: 0.403334 /<x3:0|x2:2|x1:0> :: 0 /<x3:1|x2:2|x1:0> :: 0 /<x3:2|x2:2|x1:0> :: 0 /<x3:0|x2:0|x1:1> :: 0 /<x3:1|x2:0|x1:1> :: 0.0116067 /<x3:2|x2:0|x1:1> :: 0.0261152 /<x3:0|x2:1|x1:1> :: 0 /<x3:1|x2:1|x1:1> :: 0.0219238 /<x3:2|x2:1|x1:1> :: 0.0493286 /<x3:0|x2:2|x1:1> :: 0 /<x3:1|x2:2|x1:1> :: 0 /<x3:2|x2:2|x1:1> :: 0 /<x3:0|x2:0|x1:2> :: 0 /<x3:1|x2:0|x1:2> :: 0 /<x3:2|x2:0|x1:2> :: 0 /<x3:0|x2:1|x1:2> :: 0 /<x3:1|x2:1|x1:2> :: 0 /<x3:2|x2:1|x1:2> :: 0 /<x3:0|x2:2|x1:2> :: 0 /<x3:1|x2:2|x1:2> :: 0 /<x3:2|x2:2|x1:2> :: 0"
      ]
     },
     "execution_count": 80,
     "metadata": {},
     "output_type": "execute_result"
    }
   ],
   "source": [
    "ie2.setEvidence({'y1':0, 'y2':0, 'y3':1})\n",
    "ie2.makeInference()\n",
    "ie2.posterior('x1')*ie2.posterior('x2')*ie2.posterior('x3')"
   ]
  },
  {
   "cell_type": "code",
   "execution_count": 83,
   "metadata": {},
   "outputs": [],
   "source": [
    "# Sachant qu'on a observé la suite de symboles \"aab\", la séquence d'états la plus probable est 123, avec un proba de 0.4033"
   ]
  },
  {
   "cell_type": "code",
   "execution_count": null,
   "metadata": {},
   "outputs": [],
   "source": []
  }
 ],
 "metadata": {
  "kernelspec": {
   "display_name": "Python 3",
   "language": "python",
   "name": "python3"
  },
  "language_info": {
   "codemirror_mode": {
    "name": "ipython",
    "version": 3
   },
   "file_extension": ".py",
   "mimetype": "text/x-python",
   "name": "python",
   "nbconvert_exporter": "python",
   "pygments_lexer": "ipython3",
   "version": "3.7.4"
  }
 },
 "nbformat": 4,
 "nbformat_minor": 2
}
